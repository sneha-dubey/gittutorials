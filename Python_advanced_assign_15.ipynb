{
  "nbformat": 4,
  "nbformat_minor": 0,
  "metadata": {
    "colab": {
      "provenance": []
    },
    "kernelspec": {
      "name": "python3",
      "display_name": "Python 3"
    },
    "language_info": {
      "name": "python"
    }
  },
  "cells": [
    {
      "cell_type": "markdown",
      "source": [
        "1. What are the new features added in Python 3.8 version?"
      ],
      "metadata": {
        "id": "udeXLyVUmjK3"
      }
    },
    {
      "cell_type": "markdown",
      "source": [
        "Python 3.8 introduced several new features and improvements, some of which are:\n",
        "\n",
        "1.)The walrus operator (:=) that allows assignment within an expression, making it easier to write concise code.\n",
        "\n",
        "2.)f-strings now support equal signs (=) to help align field values.\n",
        "\n",
        "3.)The typing module has added several new features, including TypedDict, Final, and Literal.\n",
        "\n",
        "4.)Improved support for positional-only parameters in functions.\n",
        "\n",
        "5.)Improved syntax for decorators, allowing for decorators to be applied to functions, methods, and classes more easily.\n",
        "\n",
        "6.)Performance improvements, including faster class instantiation and faster math operations.\n",
        "\n",
        "7.)New modules and libraries, including the contextvars module for tracking context changes and the importlib.metadata module for accessing metadata about installed packages."
      ],
      "metadata": {
        "id": "2R4g6uK5oKzf"
      }
    },
    {
      "cell_type": "markdown",
      "source": [
        "2. What is monkey patching in Python?"
      ],
      "metadata": {
        "id": "d0C2TXOPmpBz"
      }
    },
    {
      "cell_type": "markdown",
      "source": [
        "Monkey patching in Python refers to the ability to modify or extend the behavior of code at runtime by replacing, adding or deleting attributes or methods of an object or a module. Monkey patching allows developers to change the behavior of a program or a library by changing its code at runtime instead of modifying the original source code. This is typically done by replacing an existing method or attribute with a new one that performs a different action, or by adding new methods or attributes that weren't present before."
      ],
      "metadata": {
        "id": "QjFc-RXJp0NH"
      }
    },
    {
      "cell_type": "markdown",
      "source": [
        "3. What is the difference between a shallow copy and deep copy?"
      ],
      "metadata": {
        "id": "sDifWc_EmsBZ"
      }
    },
    {
      "cell_type": "markdown",
      "source": [
        "The main difference between them lies in how they handle mutable objects (such as lists, dictionaries, and objects), which can contain references to other objects.\n",
        "\n",
        "A shallow copy creates a new object that points to the same memory locations as the original object.\n",
        "\n",
        "A deep copy creates a new object with its own memory allocation, and any changes made to the original object or its contained objects will not be reflected in the copied object."
      ],
      "metadata": {
        "id": "R1_hjkg7vipJ"
      }
    },
    {
      "cell_type": "code",
      "source": [
        "import copy\n",
        "\n",
        "# Shallow copy\n",
        "original = [[1, 2, 3], [4, 5, 6]]\n",
        "copied = copy.copy(original)\n",
        "original[0][0] = 0\n",
        "print(original)  # Output: [[0, 2, 3], [4, 5, 6]]\n",
        "print(copied)    # Output: [[0, 2, 3], [4, 5, 6]] (changes are reflected)\n",
        "\n",
        "# Deep copy\n",
        "original = [[1, 2, 3], [4, 5, 6]]\n",
        "copied = copy.deepcopy(original)\n",
        "original[0][0] = 0\n",
        "print(original)  # Output: [[0, 2, 3], [4, 5, 6]]\n",
        "print(copied)    # Output: [[1, 2, 3], [4, 5, 6]] (changes are not reflected)"
      ],
      "metadata": {
        "colab": {
          "base_uri": "https://localhost:8080/"
        },
        "id": "h4tlxEYMmugC",
        "outputId": "9105c70a-ced9-4de5-a1d0-80fb9ff73b87"
      },
      "execution_count": 1,
      "outputs": [
        {
          "output_type": "stream",
          "name": "stdout",
          "text": [
            "[[0, 2, 3], [4, 5, 6]]\n",
            "[[0, 2, 3], [4, 5, 6]]\n",
            "[[0, 2, 3], [4, 5, 6]]\n",
            "[[1, 2, 3], [4, 5, 6]]\n"
          ]
        }
      ]
    },
    {
      "cell_type": "markdown",
      "source": [
        "4. What is the maximum possible length of an identifier?"
      ],
      "metadata": {
        "id": "VOn9yE4Zmu9f"
      }
    },
    {
      "cell_type": "markdown",
      "source": [
        "The maximum possible length of an identifier is not specified, but it is practically limited by the maximum length of a string. In Python 3.10 and later versions, the maximum length of a string is 2^63-1 (approximately 9 quintillion), so identifiers can be up to that length. The Python style guide, PEP 8, recommends keeping identifiers to a maximum of 79 characters to maintain readability."
      ],
      "metadata": {
        "id": "tPNtBHa4zEqX"
      }
    },
    {
      "cell_type": "markdown",
      "source": [
        "5. What is generator comprehension?"
      ],
      "metadata": {
        "id": "FlBEvyIQmyfv"
      }
    },
    {
      "cell_type": "markdown",
      "source": [
        "Generator comprehension, also known as generator expression, is a concise way to create a generator in Python. It allows you to define a generator in a single line of code, using a syntax similar to list comprehension.\n",
        "A generator comprehension is defined using parentheses instead of square brackets. It starts with an expression followed by a for loop, and optionally one or more if clauses."
      ],
      "metadata": {
        "id": "x-shThAHz9d2"
      }
    },
    {
      "cell_type": "code",
      "source": [
        "# A generator that yields the squares of numbers from 1 to 10\n",
        "squares = (x**2 for x in range(1, 11))\n",
        "\n",
        "# Iterate over the generator and print the squares\n",
        "for square in squares:\n",
        "    print(square)\n"
      ],
      "metadata": {
        "colab": {
          "base_uri": "https://localhost:8080/"
        },
        "id": "eZLLUidRm0tz",
        "outputId": "0b883af0-5b6b-4e61-a929-56fb346335d0"
      },
      "execution_count": 2,
      "outputs": [
        {
          "output_type": "stream",
          "name": "stdout",
          "text": [
            "1\n",
            "4\n",
            "9\n",
            "16\n",
            "25\n",
            "36\n",
            "49\n",
            "64\n",
            "81\n",
            "100\n"
          ]
        }
      ]
    },
    {
      "cell_type": "code",
      "source": [],
      "metadata": {
        "id": "R8z_cHk-0J8d"
      },
      "execution_count": null,
      "outputs": []
    }
  ]
}