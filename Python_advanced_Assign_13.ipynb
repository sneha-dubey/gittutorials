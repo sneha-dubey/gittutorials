{
  "nbformat": 4,
  "nbformat_minor": 0,
  "metadata": {
    "colab": {
      "provenance": []
    },
    "kernelspec": {
      "name": "python3",
      "display_name": "Python 3"
    },
    "language_info": {
      "name": "python"
    }
  },
  "cells": [
    {
      "cell_type": "markdown",
      "source": [
        "Q1. Can you create a programme or function that employs both positive and negative indexing? Is\n",
        "there any repercussion if you do so?"
      ],
      "metadata": {
        "id": "d-vo3MkuzN-F"
      }
    },
    {
      "cell_type": "markdown",
      "source": [
        "Yes, it is possible to create a program or function that employs both positive and negative indexing. Using both positive and negative indexing in program can be useful in situations where you need to access elements from the beginning and end of a data structure. There are no significant repercussions to doing this, as long as the indexing is used correctly and appropriately for the data structure being accessed. "
      ],
      "metadata": {
        "id": "VCgVX53-zUYS"
      }
    },
    {
      "cell_type": "code",
      "source": [
        "my_string = \"Hello, world!\"\n",
        "\n",
        "# Access the first and last characters of the string using positive and negative indexing\n",
        "first_char = my_string[0]  # Returns \"H\"\n",
        "last_char = my_string[-1]  # Returns \"!\"\n"
      ],
      "metadata": {
        "id": "tr0h_2dYzRqK"
      },
      "execution_count": 4,
      "outputs": []
    },
    {
      "cell_type": "markdown",
      "source": [
        "Q2. What is the most effective way of starting with 1,000 elements in a Python list? Assume that all\n",
        "elements should be set to the same value."
      ],
      "metadata": {
        "id": "daw9N2zbzTKr"
      }
    },
    {
      "cell_type": "code",
      "source": [
        "# my_list = [value] * 1000"
      ],
      "metadata": {
        "id": "1vfz3fYe0HqD"
      },
      "execution_count": 6,
      "outputs": []
    },
    {
      "cell_type": "markdown",
      "source": [
        "The most effective way to create a Python list with 1,000 elements that are set to the same value is to use a list comprehension with the * operator. The * operator is used to repeat the same value multiple times, and the list comprehension creates a new list with the repeated value for each element.\n",
        "\n"
      ],
      "metadata": {
        "id": "fdpyQNiR_eSE"
      }
    },
    {
      "cell_type": "markdown",
      "source": [
        "Q3. How do you slice a list to get any other part while missing the rest? (For example, suppose you want to make a new list with the elements first, third, fifth, seventh, and so on.)"
      ],
      "metadata": {
        "id": "JykjNY1p_0FJ"
      }
    },
    {
      "cell_type": "markdown",
      "source": [
        "This will slice the list starting from the first element (index 0), ending at the last element, and stepping by 2. This will result in a new list containing the first, third, fifth, seventh, and so on elements."
      ],
      "metadata": {
        "id": "j_LjLxeQKFd1"
      }
    },
    {
      "cell_type": "code",
      "source": [
        "# my_list[::2]"
      ],
      "metadata": {
        "id": "kQSB9YhC_y7D"
      },
      "execution_count": 7,
      "outputs": []
    },
    {
      "cell_type": "markdown",
      "source": [
        "Q4. Explain the distinctions between indexing and slicing."
      ],
      "metadata": {
        "id": "htcj1GvvAQ1S"
      }
    },
    {
      "cell_type": "markdown",
      "source": [
        "Indexing is used to retrieve a single element from a sequence using its position, or index, within the sequence. The index is an integer value that represents the position of the element in the sequence, with the first element having an index of 0. To index a list in Python, you use square brackets [] with the index of the element you want to retrieve. For example, my_list[0] would retrieve the first element of my_list.\n",
        "\n",
        "Slicing is used to retrieve a subset of the elements from a sequence, by specifying a range of indices.The syntax for slicing is [start:stop:step], where start is the starting index, stop is the stopping index, and step is the stride or interval between elements. The start index is inclusive, while the stop index is exclusive. That means that the element at the start index will be included in the slice, while the element at the stop index will not. For example, my_list[1:4] would return a new list containing the elements at indices 1, 2, and 3 of my_list."
      ],
      "metadata": {
        "id": "-keyQYoQLISh"
      }
    },
    {
      "cell_type": "markdown",
      "source": [
        "Q5. What happens if one of the slicing expression&#39;s indexes is out of range?"
      ],
      "metadata": {
        "id": "Xmiep352AU7c"
      }
    },
    {
      "cell_type": "markdown",
      "source": [
        "If one of the slicing expression's indexes is out of range, Python will not raise an error. Instead, it will return a slice that is truncated to the nearest valid index."
      ],
      "metadata": {
        "id": "mCkEctJKMmOA"
      }
    },
    {
      "cell_type": "markdown",
      "source": [
        "Q6. If you pass a list to a function, and if you want the function to be able to change the values of the\n",
        "list—so that the list is different after the function returns—what action should you avoid?"
      ],
      "metadata": {
        "id": "NIK-vKFkAZMl"
      }
    },
    {
      "cell_type": "markdown",
      "source": [
        "If you want the function to be able to change the values of the list that you pass to it, you should avoid creating a new list inside the function that has the same name as the original list, as this will shadow the original list and any changes made to the new list will not be reflected in the original list."
      ],
      "metadata": {
        "id": "ReL5YouGOMM3"
      }
    },
    {
      "cell_type": "code",
      "source": [
        "def modify_list(my_list):\n",
        "    my_list = [1, 2, 3, 4, 5]\n",
        "\n",
        "my_list = [10, 20, 30]\n",
        "modify_list(my_list)\n",
        "print(my_list) "
      ],
      "metadata": {
        "colab": {
          "base_uri": "https://localhost:8080/"
        },
        "id": "ANRp9YW6Ad5T",
        "outputId": "591ccafa-5a91-4b47-d04f-123c6559cba9"
      },
      "execution_count": 9,
      "outputs": [
        {
          "output_type": "stream",
          "name": "stdout",
          "text": [
            "[10, 20, 30]\n"
          ]
        }
      ]
    },
    {
      "cell_type": "code",
      "source": [
        "def modify_list(my_list):\n",
        "    my_list.append(40)\n",
        "\n",
        "my_list = [10, 20, 30]\n",
        "modify_list(my_list)\n",
        "print(my_list)"
      ],
      "metadata": {
        "colab": {
          "base_uri": "https://localhost:8080/"
        },
        "id": "9wkR--r7RKS8",
        "outputId": "b19c3100-7a7f-4944-8c26-3d5a6a08471c"
      },
      "execution_count": 10,
      "outputs": [
        {
          "output_type": "stream",
          "name": "stdout",
          "text": [
            "[10, 20, 30, 40]\n"
          ]
        }
      ]
    },
    {
      "cell_type": "markdown",
      "source": [
        "the function modify_list() modifies the original list my_list by appending the value 40 to it. When the code prints the value of my_list after calling the function, it will be [10, 20, 30, 40]."
      ],
      "metadata": {
        "id": "R7RWI22CRs5q"
      }
    },
    {
      "cell_type": "markdown",
      "source": [
        "Q7. What is the concept of an unbalanced matrix?"
      ],
      "metadata": {
        "id": "OEHzEfIgAep_"
      }
    },
    {
      "cell_type": "markdown",
      "source": [
        "An unbalanced matrix has a different number of rows than columns, or a different number of columns than rows.\n",
        "For example, a 3 x 4 matrix is unbalanced because it has 3 rows and 4 columns."
      ],
      "metadata": {
        "id": "atnUZZ4kSIhO"
      }
    },
    {
      "cell_type": "markdown",
      "source": [
        "Q8. Why is it necessary to use either list comprehension or a loop to create arbitrarily large matrices?"
      ],
      "metadata": {
        "id": "NO92wYaKAiHA"
      }
    },
    {
      "cell_type": "markdown",
      "source": [
        "It is necessary to use either list comprehension or a loop to create arbitrarily large matrices because these methods allow for dynamic creation of the matrix, based on the desired size and shape.\n",
        "\n",
        "Unlike other data structures like tuples or sets, lists in Python can be modified after they are created. This means that lists can be resized by adding or removing elements, making them a suitable data structure for creating matrices of arbitrary size.\n",
        "\n",
        "Using list comprehension or a loop allows for efficient creation of matrices of arbitrary size because they can generate the elements of the matrix on-the-fly, without having to preallocate memory for the entire matrix. This is especially important for large matrices, where preallocating memory for the entire matrix could result in significant memory usage and slower performance.\n",
        "\n"
      ],
      "metadata": {
        "id": "KGn2mTmxS5lr"
      }
    },
    {
      "cell_type": "code",
      "source": [],
      "metadata": {
        "id": "rfecC_aAWuVF"
      },
      "execution_count": null,
      "outputs": []
    }
  ]
}