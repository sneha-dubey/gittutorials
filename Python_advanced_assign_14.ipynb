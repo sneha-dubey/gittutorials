{
  "nbformat": 4,
  "nbformat_minor": 0,
  "metadata": {
    "colab": {
      "provenance": []
    },
    "kernelspec": {
      "name": "python3",
      "display_name": "Python 3"
    },
    "language_info": {
      "name": "python"
    }
  },
  "cells": [
    {
      "cell_type": "markdown",
      "source": [
        "Q1. Is an assignment operator like += only for show? Is it possible that it would lead to faster results\n",
        "at the runtime?"
      ],
      "metadata": {
        "id": "5tNi3Zs6NgaP"
      }
    },
    {
      "cell_type": "markdown",
      "source": [
        "No, an assignment operator like += is not just for show; it can actually lead to faster results at runtime in certain situations.Using the += operator can be faster than using the longer form x = x + y, especially when working with large arrays or other data structures.using the += operator can be more concise and easier to read, which can make code more maintainable and less error-prone."
      ],
      "metadata": {
        "id": "ru7F8bESOhxc"
      }
    },
    {
      "cell_type": "markdown",
      "source": [
        "Q2. What is the smallest number of statements you&#39;d have to write in most programming languages to\n",
        "replace the Python expression a, b = a + b, a?"
      ],
      "metadata": {
        "id": "4izqzmkPNlTb"
      }
    },
    {
      "cell_type": "markdown",
      "source": [
        "1.) Declare a temporary variable to hold the value of a.\n",
        "\n",
        "2.) Assign the value of a + b to a.\n",
        "\n",
        "3.)Assign the value of the temporary variable to b."
      ],
      "metadata": {
        "id": "DQ1AtsLIP1CF"
      }
    },
    {
      "cell_type": "markdown",
      "source": [
        "Q3. In Python, what is the most effective way to set a list of 100 integers to 0?"
      ],
      "metadata": {
        "id": "_Y4-PdIRNomA"
      }
    },
    {
      "cell_type": "code",
      "source": [
        "my_list=[0 for _ in range(100)]\n",
        "print(my_list)"
      ],
      "metadata": {
        "colab": {
          "base_uri": "https://localhost:8080/"
        },
        "id": "AvwGQzTiNrN8",
        "outputId": "70f71acc-635b-4f02-962c-2748ec666e80"
      },
      "execution_count": 5,
      "outputs": [
        {
          "output_type": "stream",
          "name": "stdout",
          "text": [
            "[0, 0, 0, 0, 0, 0, 0, 0, 0, 0, 0, 0, 0, 0, 0, 0, 0, 0, 0, 0, 0, 0, 0, 0, 0, 0, 0, 0, 0, 0, 0, 0, 0, 0, 0, 0, 0, 0, 0, 0, 0, 0, 0, 0, 0, 0, 0, 0, 0, 0, 0, 0, 0, 0, 0, 0, 0, 0, 0, 0, 0, 0, 0, 0, 0, 0, 0, 0, 0, 0, 0, 0, 0, 0, 0, 0, 0, 0, 0, 0, 0, 0, 0, 0, 0, 0, 0, 0, 0, 0, 0, 0, 0, 0, 0, 0, 0, 0, 0, 0]\n"
          ]
        }
      ]
    },
    {
      "cell_type": "code",
      "source": [
        "lst=[0]*100\n",
        "print(lst)"
      ],
      "metadata": {
        "colab": {
          "base_uri": "https://localhost:8080/"
        },
        "id": "Ge1nK1H8R3d3",
        "outputId": "f76be15f-4795-4891-f210-e863c6e322dc"
      },
      "execution_count": 9,
      "outputs": [
        {
          "output_type": "stream",
          "name": "stdout",
          "text": [
            "[0, 0, 0, 0, 0, 0, 0, 0, 0, 0, 0, 0, 0, 0, 0, 0, 0, 0, 0, 0, 0, 0, 0, 0, 0, 0, 0, 0, 0, 0, 0, 0, 0, 0, 0, 0, 0, 0, 0, 0, 0, 0, 0, 0, 0, 0, 0, 0, 0, 0, 0, 0, 0, 0, 0, 0, 0, 0, 0, 0, 0, 0, 0, 0, 0, 0, 0, 0, 0, 0, 0, 0, 0, 0, 0, 0, 0, 0, 0, 0, 0, 0, 0, 0, 0, 0, 0, 0, 0, 0, 0, 0, 0, 0, 0, 0, 0, 0, 0, 0]\n"
          ]
        }
      ]
    },
    {
      "cell_type": "markdown",
      "source": [
        "Q4. What is the most effective way to initialise a list of 99 integers that repeats the sequence 1, 2, 3?\n",
        "S If necessary, show step-by-step instructions on how to accomplish this."
      ],
      "metadata": {
        "id": "I0oRRh7CNruN"
      }
    },
    {
      "cell_type": "code",
      "source": [
        "my_lst=[(i%3)+1 for i in range(99)]\n",
        "print(my_lst)"
      ],
      "metadata": {
        "colab": {
          "base_uri": "https://localhost:8080/"
        },
        "id": "A53kalN9NuGH",
        "outputId": "68f9d57f-e264-41d2-8fae-8d021cdc807f"
      },
      "execution_count": 14,
      "outputs": [
        {
          "output_type": "stream",
          "name": "stdout",
          "text": [
            "[1, 2, 3, 1, 2, 3, 1, 2, 3, 1, 2, 3, 1, 2, 3, 1, 2, 3, 1, 2, 3, 1, 2, 3, 1, 2, 3, 1, 2, 3, 1, 2, 3, 1, 2, 3, 1, 2, 3, 1, 2, 3, 1, 2, 3, 1, 2, 3, 1, 2, 3, 1, 2, 3, 1, 2, 3, 1, 2, 3, 1, 2, 3, 1, 2, 3, 1, 2, 3, 1, 2, 3, 1, 2, 3, 1, 2, 3, 1, 2, 3, 1, 2, 3, 1, 2, 3, 1, 2, 3, 1, 2, 3, 1, 2, 3, 1, 2, 3]\n"
          ]
        }
      ]
    },
    {
      "cell_type": "markdown",
      "source": [
        "Q5. If you&#39;re using IDLE to run a Python application, explain how to print a multidimensional list as\n",
        "efficiently?"
      ],
      "metadata": {
        "id": "e5MJ5GHTNvBq"
      }
    },
    {
      "cell_type": "code",
      "source": [
        "my_list = [[1, 2, 3], [4, 5, 6], [7, 8, 9]]\n",
        "\n",
        "for row in my_list:\n",
        "    for col in row:\n",
        "        print(col, end=' ')\n",
        "    print()"
      ],
      "metadata": {
        "colab": {
          "base_uri": "https://localhost:8080/"
        },
        "id": "VDNhiK9wWdF_",
        "outputId": "171900de-c4c5-405c-ab7d-075abd017316"
      },
      "execution_count": 19,
      "outputs": [
        {
          "output_type": "stream",
          "name": "stdout",
          "text": [
            "1 2 3 \n",
            "4 5 6 \n",
            "7 8 9 \n"
          ]
        }
      ]
    },
    {
      "cell_type": "markdown",
      "source": [
        "Q6. Is it possible to use list comprehension with a string? If so, how can you go about doing it?"
      ],
      "metadata": {
        "id": "P4KRRxmcNysf"
      }
    },
    {
      "cell_type": "markdown",
      "source": [
        "Yes, it is possible to use list comprehension with a string in Python. You can use a list comprehension to create a new list by applying an expression to each character in the string. "
      ],
      "metadata": {
        "id": "dvXI7-jlXxNl"
      }
    },
    {
      "cell_type": "code",
      "source": [
        "my_string = \"hello world\"\n",
        "my_list = [c.upper() for c in my_string]\n",
        "print(my_list)"
      ],
      "metadata": {
        "colab": {
          "base_uri": "https://localhost:8080/"
        },
        "id": "QXqzPGP_X6X9",
        "outputId": "ad943447-f454-4a85-a18c-214de084da8a"
      },
      "execution_count": 20,
      "outputs": [
        {
          "output_type": "stream",
          "name": "stdout",
          "text": [
            "['H', 'E', 'L', 'L', 'O', ' ', 'W', 'O', 'R', 'L', 'D']\n"
          ]
        }
      ]
    },
    {
      "cell_type": "code",
      "source": [
        "my_string = \"hello world\"\n",
        "my_list = [ord(c) for c in my_string]         #to convert all the characters to their ASCII values\n",
        "print(my_list)"
      ],
      "metadata": {
        "colab": {
          "base_uri": "https://localhost:8080/"
        },
        "id": "A_o7jYigX6di",
        "outputId": "ac18aee4-ad0b-45af-a79e-5af87b5a4190"
      },
      "execution_count": 22,
      "outputs": [
        {
          "output_type": "stream",
          "name": "stdout",
          "text": [
            "[104, 101, 108, 108, 111, 32, 119, 111, 114, 108, 100]\n"
          ]
        }
      ]
    },
    {
      "cell_type": "markdown",
      "source": [
        "Q7. From the command line, how do you get support with a user-written Python programme? Is this\n",
        "possible from inside IDLE?"
      ],
      "metadata": {
        "id": "q0jY3M_oN1zU"
      }
    },
    {
      "cell_type": "code",
      "source": [
        "#python myprogram.py -h"
      ],
      "metadata": {
        "id": "yDmMxVsqN4Kg"
      },
      "execution_count": 26,
      "outputs": []
    },
    {
      "cell_type": "markdown",
      "source": [
        "Q8. Functions are said to be “first-class objects” in Python but not in most other languages, such as\n",
        "C++ or Java. What can you do in Python with a function (callable object) that you can&#39;t do in C or\n",
        "C++?\n",
        "\n"
      ],
      "metadata": {
        "id": "lf5K1qqjN4wv"
      }
    },
    {
      "cell_type": "markdown",
      "source": [
        "In Python, functions are first-class objects, which means that they can be treated like any other object in the language. This gives Python programmers a lot of flexibility and power when working with functions, and allows them to do things that are not possible or more difficult in languages like C or C++.\n",
        "\n",
        "Here are some examples of things that you can do with functions in Python that you can't do in C or C++:\n",
        "\n",
        "a.)Pass functions as arguments to other functions\n",
        "\n",
        "b.)Return functions from functions\n",
        "\n",
        "c.)Assign functions to variables\n",
        "\n",
        "d.)Create anonymous functions\n",
        "\n",
        "e.)Use functions as attributes of objects"
      ],
      "metadata": {
        "id": "QJbG8nsgavxY"
      }
    },
    {
      "cell_type": "markdown",
      "source": [
        "Q9. How do you distinguish between a wrapper, a wrapped feature, and a decorator?"
      ],
      "metadata": {
        "id": "O2r99Q8tN-vK"
      }
    },
    {
      "cell_type": "markdown",
      "source": [
        "In Python, a wrapper, a wrapped feature, and a decorator are all techniques for adding functionality to a function or a class. However, they differ in their implementation and purpose. \n",
        "\n",
        "Here are the definitions and distinctions between a wrapper, a wrapped feature, and a decorator:\n",
        "\n",
        "1.)Wrapper:A wrapper can be used to modify the behavior of a function or a class without changing its original implementation. A wrapper is typically implemented using a higher-order function or a class.\n",
        "\n",
        "2.)Wrapped feature:A wrapped feature is the original function or class that is being wrapped by a wrapper. It is the function or class that provides the core functionality and is modified by the wrapper. The wrapped feature can be any function or class, and it can have any number of parameters and return values.\n",
        "\n",
        "3.)Decorator:A decorator is a special kind of wrapper that uses the \"@\" syntax to apply a wrapper to a function or a class. A decorator is a shorthand way of applying a wrapper to a function or a class and is used to modify the behavior of the function or class in a declarative way. A decorator is applied by placing it on the line above the function or class definition."
      ],
      "metadata": {
        "id": "w8Oaqz2dcmXF"
      }
    },
    {
      "cell_type": "code",
      "source": [
        "# Wrapper example\n",
        "def wrapper(func):\n",
        "    def wrapped(*args, **kwargs):\n",
        "        print(\"Wrapper added some extra functionality!\")\n",
        "        return func(*args, **kwargs)\n",
        "    return wrapped\n",
        "\n",
        "def original_func(x):\n",
        "    return x * x\n",
        "\n",
        "wrapped_func = wrapper(original_func)\n",
        "print(wrapped_func(5))  # Output: Wrapper added some extra functionality! 25\n",
        "\n",
        "# Decorator example\n",
        "@wrapper\n",
        "def decorated_func(x):\n",
        "    return x * x\n",
        "\n",
        "print(decorated_func(5))  # Output: Wrapper added some extra functionality! 25"
      ],
      "metadata": {
        "colab": {
          "base_uri": "https://localhost:8080/"
        },
        "id": "Qc06VJiQcpjL",
        "outputId": "9da20489-4056-43ce-c9a3-738c3db5baf6"
      },
      "execution_count": 27,
      "outputs": [
        {
          "output_type": "stream",
          "name": "stdout",
          "text": [
            "Wrapper added some extra functionality!\n",
            "25\n",
            "Wrapper added some extra functionality!\n",
            "25\n"
          ]
        }
      ]
    },
    {
      "cell_type": "markdown",
      "source": [
        "Q10. If a function is a generator function, what does it return?"
      ],
      "metadata": {
        "id": "36gUhbHeN_pO"
      }
    },
    {
      "cell_type": "markdown",
      "source": [
        "If a function is a generator function, it does not return a value in the traditional sense. Instead, it returns an iterator object that generates a sequence of values as it is iterated over.Generator functions are defined using the yield keyword instead of return, and each time the yield statement is encountered, the function returns the value to the caller, but it does not terminate the function."
      ],
      "metadata": {
        "id": "n7NE3e3HfVfu"
      }
    },
    {
      "cell_type": "code",
      "source": [
        "def even_numbers():\n",
        "    n = 0\n",
        "    while n < 10:\n",
        "        yield n\n",
        "        n += 2\n",
        "\n",
        "for num in even_numbers():\n",
        "    print(num)\n"
      ],
      "metadata": {
        "colab": {
          "base_uri": "https://localhost:8080/"
        },
        "id": "RtKdFWhpOBx-",
        "outputId": "2ffca80a-f837-4115-8047-c8dc0a0bd2a2"
      },
      "execution_count": 28,
      "outputs": [
        {
          "output_type": "stream",
          "name": "stdout",
          "text": [
            "0\n",
            "2\n",
            "4\n",
            "6\n",
            "8\n"
          ]
        }
      ]
    },
    {
      "cell_type": "markdown",
      "source": [
        "Q11. What is the one improvement that must be made to a function in order for it to become a\n",
        "generator function in the Python language?\n",
        "\n"
      ],
      "metadata": {
        "id": "d6HPPbcrOCMW"
      }
    },
    {
      "cell_type": "markdown",
      "source": [
        "he one improvement that must be made to a function in order for it to become a generator function in Python is to use the yield statement instead of the return statement to generate a sequence of values."
      ],
      "metadata": {
        "id": "9H1vZ-Z-kc3L"
      }
    },
    {
      "cell_type": "code",
      "source": [
        "# regular function\n",
        "def multiply(a, b):\n",
        "    return a * b\n",
        "\n",
        "# generator function\n",
        "def generate_numbers():\n",
        "    for i in range(10):\n",
        "        yield i"
      ],
      "metadata": {
        "id": "BgUMTzMsOHfD"
      },
      "execution_count": 30,
      "outputs": []
    },
    {
      "cell_type": "markdown",
      "source": [
        "Q12. Identify at least one benefit of generators."
      ],
      "metadata": {
        "id": "SfFl_VMvOH9W"
      }
    },
    {
      "cell_type": "markdown",
      "source": [
        "With generators, elements are computed only when they are requested, and they are discarded from memory once they are used. This makes generators much more memory-efficient than traditional data structures like lists or arrays.\n",
        "In addition to memory efficiency, generators can also be more time-efficient. For example, if you're working with a large dataset and only need to access a few elements at a time, generators allow you to iterate through the dataset in smaller, more manageable chunks. "
      ],
      "metadata": {
        "id": "zUZBvZFBlMoM"
      }
    }
  ]
}