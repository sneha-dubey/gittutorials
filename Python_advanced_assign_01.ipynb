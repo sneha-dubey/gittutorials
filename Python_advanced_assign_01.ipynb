{
  "nbformat": 4,
  "nbformat_minor": 0,
  "metadata": {
    "colab": {
      "provenance": []
    },
    "kernelspec": {
      "name": "python3",
      "display_name": "Python 3"
    },
    "language_info": {
      "name": "python"
    }
  },
  "cells": [
    {
      "cell_type": "markdown",
      "source": [
        "Q1. What is the purpose of Python&#39;s OOP?"
      ],
      "metadata": {
        "id": "fQHlcS986lPb"
      }
    },
    {
      "cell_type": "markdown",
      "source": [
        "The purpose of OOP(object-oriented programming) thet uses objects and classes in programming. OOPs concept is to bind the data and the functions that work on together as a single unit so that no other part of the code can access this data.\n",
        "It aims to implement real-world entities like inheritance, polymorphisms, encapsulation etc in the python programming "
      ],
      "metadata": {
        "id": "5v4-f31w7y0n"
      }
    },
    {
      "cell_type": "markdown",
      "source": [
        "Q2. Where does an inheritance search look for an attribute?"
      ],
      "metadata": {
        "id": "prMiMDlC6qHT"
      }
    },
    {
      "cell_type": "markdown",
      "source": [
        "An inheritance search for an attribute refers to the process of finding an attribute in the inheritance hierarchy of a class.\n",
        "an inheritance search for an attribute in object-oriented programming starts with the subclass and continues up the inheritance hierarchy until the attribute is found or the top of the hierarchy is reached."
      ],
      "metadata": {
        "id": "UQJzEwJE_20S"
      }
    },
    {
      "cell_type": "markdown",
      "source": [
        "Q3. How do you distinguish between a class object and an instance object?"
      ],
      "metadata": {
        "id": "McxdYpSN6tH9"
      }
    },
    {
      "cell_type": "markdown",
      "source": [
        "The main difference between a class object and an instance object is that a class object defines a set of attributes and behaviors (methods) that the instances of that class will have, while an instance object represents a specific instance of the class and has its own specific values for the attributes."
      ],
      "metadata": {
        "id": "1TLe3KKHTELz"
      }
    },
    {
      "cell_type": "markdown",
      "source": [
        "Q4. What makes the first argument in a class’s method function special?"
      ],
      "metadata": {
        "id": "YIqsipfq6wo5"
      }
    },
    {
      "cell_type": "markdown",
      "source": [
        "The first argument in a class method function in Python is special because it refers to the instance of the class itself, and is conventionally named \"self\".\n",
        "The \"self\" argument is a reference to the instance of the class, and it is automatically passed to the method when the method is called on an instance."
      ],
      "metadata": {
        "id": "Rx3CrDqtTVib"
      }
    },
    {
      "cell_type": "markdown",
      "source": [
        "Q5. What is the purpose of the __init__ method?"
      ],
      "metadata": {
        "id": "rfL85ksL6z_r"
      }
    },
    {
      "cell_type": "markdown",
      "source": [
        "__init__ is a constructor. The purpose of the __init__ method is to initialize data to the object within a class."
      ],
      "metadata": {
        "id": "mS-D035tGffM"
      }
    },
    {
      "cell_type": "markdown",
      "source": [
        "Q6. What is the process for creating a class instance?"
      ],
      "metadata": {
        "id": "FGg7xmtT63VY"
      }
    },
    {
      "cell_type": "markdown",
      "source": [
        "The process for creating an instance of a class in object-oriented programming involves the following steps:\n",
        "\n",
        "1.)Define the class\n",
        "\n",
        "2.)Create an instance\n",
        "\n",
        "3.)Pass argument to the constructor\n",
        "\n",
        "4.)Assign the instance to the variable"
      ],
      "metadata": {
        "id": "653_1pLPTavW"
      }
    },
    {
      "cell_type": "markdown",
      "source": [
        "Q7. What is the process for creating a class?"
      ],
      "metadata": {
        "id": "a9Po-Yu166ZP"
      }
    },
    {
      "cell_type": "markdown",
      "source": [
        "Creating a class involves choosing a name for the class, defining the class using the class keyword, defining the attributes and methods of the class, and using inheritance if necessary."
      ],
      "metadata": {
        "id": "8QvUt-x4UxC5"
      }
    },
    {
      "cell_type": "code",
      "source": [
        "class Person:\n",
        "    def __init__(self, name, age):\n",
        "        self.name = name\n",
        "        self.age = age\n",
        "\n",
        "    def say_hello(self):\n",
        "        print(\"Hello, my name is\", self.name)\n"
      ],
      "metadata": {
        "id": "gZ7MemLCVato"
      },
      "execution_count": 1,
      "outputs": []
    },
    {
      "cell_type": "markdown",
      "source": [
        "Q8. How would you define the superclasses of a class?"
      ],
      "metadata": {
        "id": "sdmEEokD69U8"
      }
    },
    {
      "cell_type": "markdown",
      "source": [
        "To define the superclasses of a class, you specify the names of the superclasses in the class definition, after the class name and before the curly braces that define the class body. The class inherits the attributes and methods of the superclasses, and it can also add new attributes and methods of its own."
      ],
      "metadata": {
        "id": "ZqsoBktDVhVA"
      }
    },
    {
      "cell_type": "code",
      "source": [
        "class Animal:\n",
        "    def __init__(self, name, species):\n",
        "        self.name = name\n",
        "        self.species = species\n",
        "\n",
        "class Dog(Animal):\n",
        "    def __init__(self, name, breed):\n",
        "        Animal.__init__(self, name, species=\"Dog\")\n",
        "        self.breed = breed\n"
      ],
      "metadata": {
        "id": "g6cpNE9DV43w"
      },
      "execution_count": 2,
      "outputs": []
    },
    {
      "cell_type": "code",
      "source": [],
      "metadata": {
        "id": "cvEQGvuLV5l2"
      },
      "execution_count": null,
      "outputs": []
    }
  ]
}