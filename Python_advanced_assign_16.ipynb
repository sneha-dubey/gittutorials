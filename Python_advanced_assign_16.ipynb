{
  "nbformat": 4,
  "nbformat_minor": 0,
  "metadata": {
    "colab": {
      "provenance": []
    },
    "kernelspec": {
      "name": "python3",
      "display_name": "Python 3"
    },
    "language_info": {
      "name": "python"
    }
  },
  "cells": [
    {
      "cell_type": "markdown",
      "source": [
        "Q1. What is the benefit of regular expressions?"
      ],
      "metadata": {
        "id": "4P1LChK81AvE"
      }
    },
    {
      "cell_type": "markdown",
      "source": [
        "Regular expressions provide a powerful and flexible way to search, match, and manipulate text in Python. Here are some benefits of regular expressions:\n",
        "\n",
        "a.)Flexibility: Regular expressions allow you to create complex patterns that can match a wide variety of text, including patterns that may not be easily matched using simple string methods.\n",
        "\n",
        "b.)Efficiency: Regular expressions are highly optimized for speed and efficiency, and can often perform text matching and manipulation tasks much faster than using standard string methods.\n",
        "\n",
        "c.)Reusability: Once you have created a regular expression pattern, you can reuse it in multiple contexts to match and manipulate text that has a similar pattern. \n",
        "\n",
        "d.)Standardization: Regular expressions have a standardized syntax and set of rules, which makes it easier to share and understand code that uses regular expressions.\n",
        "\n",
        "e.)Powerful manipulation: Regular expressions not only allow you to find text patterns but also provide powerful manipulation abilities like replacing, splitting, and searching in a text."
      ],
      "metadata": {
        "id": "_wvnWOv31bw1"
      }
    },
    {
      "cell_type": "markdown",
      "source": [
        "Q2. Describe the difference between the effects of &quot;(ab)c+&quot; and &quot;a(bc)+.&quot; Which of these, if any, is the\n",
        "unqualified pattern &quot;abc+&quot;?"
      ],
      "metadata": {
        "id": "qH2xQrZs1BsX"
      }
    },
    {
      "cell_type": "markdown",
      "source": [
        "(ab)c+ : This regular expression matches any text that contains one or more occurrences of the sequence \"abc\" preceded by the characters \"ab\". For example, it would match \"ababc\", \"ababcabc\", \"ababcabcabc\", etc.\n",
        "\n",
        "a(bc)+ : This regular expression matches any text that contains one or more occurrences of the sequence \"abc\" surrounded by the characters \"a\" and \"bc\". For example, it would match \"abcbc\", \"abcbcabcbc\", \"abcabc\", \"abcabcbcabc\", etc.\n",
        "\n",
        "In both cases, the unqualified pattern \"abc+\" would match any text that contains one or more occurrences of the sequence \"abc\" without any additional constraints on the surrounding characters. For example, it would match \"abc\", \"abcabc\", \"xabcxabcx\", etc."
      ],
      "metadata": {
        "id": "3vUFj8_k7VAT"
      }
    },
    {
      "cell_type": "markdown",
      "source": [
        "Q3. How much do you need to use the following sentence while using regular expressions?\n",
        "\n",
        "import re"
      ],
      "metadata": {
        "id": "3Ukv4CWN1HwC"
      }
    },
    {
      "cell_type": "code",
      "source": [
        "import re"
      ],
      "metadata": {
        "id": "WGF0Oy4S1IlL"
      },
      "execution_count": 1,
      "outputs": []
    },
    {
      "cell_type": "markdown",
      "source": [
        "If you want to use regular expressions in Python, you will almost certainly need to include this statement at the beginning of your Python code in order to access the functions and methods provided by the re module.\n",
        "\n",
        "Once you have imported the re module, you can use its functions and methods to work with regular expressions in your code. Some common functions and methods provided by the re module include search(), match(), findall(), split(), and sub(), among others."
      ],
      "metadata": {
        "id": "xj-H_iFl-TT0"
      }
    },
    {
      "cell_type": "markdown",
      "source": [
        "Q4. Which characters have special significance in square brackets when expressing a range, and\n",
        "under what circumstances?"
      ],
      "metadata": {
        "id": "t-bgSa5M1KUl"
      }
    },
    {
      "cell_type": "markdown",
      "source": [
        "Square brackets are used to denote an inclusive range of values in various contexts, such as mathematics, programming, and regular expressions. The characters that have special significance within square brackets may vary depending on the context.\n",
        "\n",
        "1.)Mathematical notation: Square brackets are used to indicate a closed interval, which includes both endpoints.\n",
        "\n",
        "2.)Regular expressions: square brackets are used to define a character class, which matches any single character from a set of possible characters. The following characters have special significance within square brackets in regular expressions:\n",
        "\n",
        "\"-\" (hyphen): Used to define a range of characters. For example, [a-z] matches any lowercase letter from a to z.\n",
        "\n",
        "\"^\" (caret): Used to negate the character class, matching any character that is not in the set. For example, [^a-z] matches any character that is not a lowercase letter from a to z.\n",
        "\n",
        "3.)Programming: square brackets may be used in various ways, depending on the language and context. Here are a few examples:\n",
        "\n",
        "Array indexing: Square brackets are used to access an element in an array by its index. For example, myArray[0] accesses the first element of the array.\n",
        "Regular expressions: See the section on regular expressions above.\n",
        "\n",
        "ASCII character codes: In some programming languages, square brackets can be used to represent the ASCII code for a character. For example, in C, the expression 'A' + 32 is equivalent to the ASCII code for lowercase 'a', which can be represented as 'A' + 32 = ['a']."
      ],
      "metadata": {
        "id": "Tpq8kXxH_SOl"
      }
    },
    {
      "cell_type": "markdown",
      "source": [
        "Q5. How does compiling a regular-expression object benefit you?"
      ],
      "metadata": {
        "id": "qf9s9aXp1OAE"
      }
    },
    {
      "cell_type": "markdown",
      "source": [
        "When a regular expression is compiled into an object, the regular expression engine creates a compiled representation of the pattern, which can be used to match against input strings.\n",
        "By defining the regular expression pattern in a separate object, you can avoid repeating the pattern multiple times throughout your code. This can make your code more concise, easier to understand, and less error-prone.\n",
        "\n",
        "some additional benefits of compiling a regular expression object:\n",
        "\n",
        "a.) Improved performance\n",
        "\n",
        "b.)better error handling\n",
        "\n",
        "c.)Easier maintenance"
      ],
      "metadata": {
        "id": "1iTX93XwLB-C"
      }
    },
    {
      "cell_type": "markdown",
      "source": [
        "Q6. What are some examples of how to use the match object returned by re.match and re.search?"
      ],
      "metadata": {
        "id": "wbbmNPIn1Qja"
      }
    },
    {
      "cell_type": "markdown",
      "source": [
        "The re.match() and re.search() functions in Python's re module return a match object if a match is found, or None if no match is found. The match object contains information about the match, including the matched string and the positions of any groups within the pattern. Here are some examples of how to use the match object returned by re.match() and re.search():"
      ],
      "metadata": {
        "id": "66X-dcUZNO5W"
      }
    },
    {
      "cell_type": "code",
      "source": [
        "import re\n",
        "\n",
        "text = \"The quick brown fox jumps over the lazy dog\"\n",
        "pattern = \"quick\"\n",
        "match = re.search(pattern, text)\n",
        "print(match.start())  # Output: 4\n",
        "print(match.end())  # Output: 9\n"
      ],
      "metadata": {
        "colab": {
          "base_uri": "https://localhost:8080/"
        },
        "id": "0X862tWV1Toc",
        "outputId": "ea7d11cf-2dfe-45f1-b2c0-24bd1ae2992e"
      },
      "execution_count": 2,
      "outputs": [
        {
          "output_type": "stream",
          "name": "stdout",
          "text": [
            "4\n",
            "9\n"
          ]
        }
      ]
    },
    {
      "cell_type": "markdown",
      "source": [
        "Q7. What is the difference between using a vertical bar (|) as an alteration and using square brackets\n",
        "as a character set?"
      ],
      "metadata": {
        "id": "s5Bs0FYg1UIG"
      }
    },
    {
      "cell_type": "markdown",
      "source": [
        "The vertical bar | is used to express alternation, which allows for matching any of a set of alternatives. For example, the regular expression apple|banana|cherry matches either \"apple\", \"banana\", or \"cherry\". Alternation allows you to match one of multiple options at a given point in the string.\n",
        "\n",
        "square brackets [] are used to define a character set or a range of characters. For example, the regular expression [abc] matches any single character that is either \"a\", \"b\", or \"c\". You can also define ranges using a hyphen inside the brackets, like [a-z] to match any lowercase letter from \"a\" to \"z\". Square brackets allow you to match any character from a set of options at a given point in the string."
      ],
      "metadata": {
        "id": "E2F1RjEGPsdL"
      }
    },
    {
      "cell_type": "code",
      "source": [
        "import re\n",
        "\n",
        "text = \"apple pie\"\n",
        "pattern1 = \"apple|pie\"  # using vertical bar for alternation\n",
        "pattern2 = \"[aple]+\"  # using square brackets to match any of a set of characters\n",
        "\n",
        "# using vertical bar\n",
        "match1 = re.search(pattern1, text)\n",
        "print(match1.group())  # Output: \"apple\"\n",
        "\n",
        "# using square brackets\n",
        "match2 = re.search(pattern2, text)\n",
        "print(match2.group())  # Output: \"apple\"\n"
      ],
      "metadata": {
        "id": "BuddW9sQ1Wtr"
      },
      "execution_count": null,
      "outputs": []
    },
    {
      "cell_type": "markdown",
      "source": [
        "Q8. In regular-expression search patterns, why is it necessary to use the raw-string indicator (r)? In  \n",
        "replacement strings?"
      ],
      "metadata": {
        "id": "W6rcO28u1XQ5"
      }
    },
    {
      "cell_type": "markdown",
      "source": [
        "In regular expression search patterns, it is necessary to use the raw-string indicator (r) to avoid having to escape backslashes and other special characters in the pattern. This is because backslashes are used in regular expressions to indicate special characters, such as \\d to match any digit or \\s to match any whitespace character. If you use a regular string instead of a raw string, you need to escape backslashes with another backslash, like \\\\d or \\\\s.\n",
        "\n",
        "For example, consider the following regular expression pattern that matches a phone number in the format \"xxx-xxx-xxxx\":"
      ],
      "metadata": {
        "id": "yaNoemGuRmsd"
      }
    },
    {
      "cell_type": "code",
      "source": [
        "import re\n",
        "\n",
        "text = \"My phone number is 123-456-7890.\"\n",
        "pattern = r\"\\d{3}-\\d{3}-\\d{4}\"  # using a raw string to avoid escaping backslashes\n",
        "\n",
        "match = re.search(pattern, text)\n",
        "print(match.group())  # Output: \"123-456-7890\"\n"
      ],
      "metadata": {
        "colab": {
          "base_uri": "https://localhost:8080/"
        },
        "id": "z4LJM2Cl1ZN0",
        "outputId": "270c224e-6726-42e7-e04a-8cedec275314"
      },
      "execution_count": 3,
      "outputs": [
        {
          "output_type": "stream",
          "name": "stdout",
          "text": [
            "123-456-7890\n"
          ]
        }
      ]
    },
    {
      "cell_type": "code",
      "source": [],
      "metadata": {
        "id": "WpgYHiOKUUf2"
      },
      "execution_count": null,
      "outputs": []
    }
  ]
}