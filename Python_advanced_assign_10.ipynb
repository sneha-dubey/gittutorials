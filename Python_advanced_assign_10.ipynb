{
  "nbformat": 4,
  "nbformat_minor": 0,
  "metadata": {
    "colab": {
      "provenance": []
    },
    "kernelspec": {
      "name": "python3",
      "display_name": "Python 3"
    },
    "language_info": {
      "name": "python"
    }
  },
  "cells": [
    {
      "cell_type": "markdown",
      "source": [
        "Q1. What is the difference between __getattr__ and __getattribute__?"
      ],
      "metadata": {
        "id": "xzPND-MJnPDc"
      }
    },
    {
      "cell_type": "markdown",
      "source": [
        "getattr is a general purpose function for accessing the value of an attribute, while getattribute is a special method that allows you to control or customize the way attributes are accessed for an object."
      ],
      "metadata": {
        "id": "GNw3jNxRqvng"
      }
    },
    {
      "cell_type": "markdown",
      "source": [
        "getattr is a built-in Python function that is used to access the value of an object's attribute, given its name as a string. It takes two arguments: the object and the attribute name as a string. If the attribute doesn't exist, getattr can optionally return a default value specified in the function call, or raise an AttributeError if no default value is provided."
      ],
      "metadata": {
        "id": "AjrE8CoBqTk-"
      }
    },
    {
      "cell_type": "code",
      "source": [
        "class Person:\n",
        "    def __init__(self, name, age):\n",
        "        self.name = name\n",
        "        self.age = age\n",
        "\n",
        "person = Person(\"John\", 30)\n",
        "print(getattr(person, \"name\", \"Unknown\")) # Output: John\n",
        "print(getattr(person, \"gender\", \"Unknown\")) # Output: Unknown\n"
      ],
      "metadata": {
        "colab": {
          "base_uri": "https://localhost:8080/"
        },
        "id": "tDxjzaP-nRPm",
        "outputId": "ffd81e87-8a69-4835-c5b3-6c9b42c354af"
      },
      "execution_count": 1,
      "outputs": [
        {
          "output_type": "stream",
          "name": "stdout",
          "text": [
            "John\n",
            "Unknown\n"
          ]
        }
      ]
    },
    {
      "cell_type": "markdown",
      "source": [
        "getattribute is a special method that is defined in the object class (which is the base class for all classes in Python). It is automatically called by Python when you access an object's attributes using dot notation, such as object.attribute. If an object has a getattribute method, this method will be called every time an attribute is accessed, regardless of whether or not the attribute exists. This makes it possible to control or customize the way attributes are accessed for an object."
      ],
      "metadata": {
        "id": "9r_YHwGXqYNF"
      }
    },
    {
      "cell_type": "code",
      "source": [
        "# class Person:\n",
        "#     def __init__(self, name, age):\n",
        "#         self._name = name\n",
        "#         self._age = age\n",
        "\n",
        "#     def __getattribute__(self, name):\n",
        "#         if name == \"name\":\n",
        "#             return \"Mr. \" + object.__getattribute__(self, \"_name\")\n",
        "#         else:\n",
        "#             return object.__getattribute__(self, name)\n",
        "\n",
        "# person = Person(\"John\", 30)\n",
        "# print(person.name) # Output: Mr. John\n",
        "# print(person.age) # Output: 30\n"
      ],
      "metadata": {
        "id": "bavdF5Q9qgv5"
      },
      "execution_count": 5,
      "outputs": []
    },
    {
      "cell_type": "markdown",
      "source": [
        "Q2. What is the difference between properties and descriptors?"
      ],
      "metadata": {
        "id": "mV7UwHaynR4T"
      }
    },
    {
      "cell_type": "markdown",
      "source": [
        "Properties are a simple mechanism for controlling access to an object's attributes. They are defined using the property built-in function, and allow you to define a getter, setter, and deletor method for an attribute. Properties are useful for creating read-only attributes, controlling access to an attribute, or adding additional logic when an attribute is accessed or modified."
      ],
      "metadata": {
        "id": "l9VhyHxBrXld"
      }
    },
    {
      "cell_type": "code",
      "source": [
        "class Person:\n",
        "    def __init__(self, name, age):\n",
        "        self._name = name\n",
        "        self._age = age\n",
        "\n",
        "    @property\n",
        "    def name(self):\n",
        "        return self._name\n",
        "\n",
        "    @name.setter\n",
        "    def name(self, name):\n",
        "        self._name = name\n",
        "\n",
        "    @name.deleter\n",
        "    def name(self):\n",
        "        del self._name\n",
        "\n",
        "person = Person(\"John\", 30)\n",
        "print(person.name) # Output: John\n",
        "person.name = \"Jane\"\n",
        "print(person.name) # Output: Jane\n",
        "del person.name\n"
      ],
      "metadata": {
        "colab": {
          "base_uri": "https://localhost:8080/"
        },
        "id": "6izzeQ7lnT7S",
        "outputId": "e2d283f1-b80a-4619-ecaf-1aa9bfd608e7"
      },
      "execution_count": 3,
      "outputs": [
        {
          "output_type": "stream",
          "name": "stdout",
          "text": [
            "John\n",
            "Jane\n"
          ]
        }
      ]
    },
    {
      "cell_type": "markdown",
      "source": [
        "A descriptor is a more advanced mechanism for controlling access to an object's attributes. A descriptor is an object that defines one or more of the methods __get__, __set__, or __delete__. When an attribute that is a descriptor is accessed, the appropriate method on the descriptor is called automatically. Descriptors are a powerful mechanism for controlling access to an object's attributes, and are used to implement many built-in Python features, such as classmethods and staticmethods."
      ],
      "metadata": {
        "id": "hgM5mGn-vLPu"
      }
    },
    {
      "cell_type": "code",
      "source": [
        "class Name:\n",
        "    def __get__(self, instance, owner):\n",
        "        return instance._name\n",
        "\n",
        "    def __set__(self, instance, name):\n",
        "        instance._name = name\n",
        "\n",
        "class Person:\n",
        "    def __init__(self, name, age):\n",
        "        self._name = name\n",
        "        self._age = age\n",
        "\n",
        "    name = Name()\n",
        "\n",
        "person = Person(\"John\", 30)\n",
        "print(person.name) # Output: John\n",
        "person.name = \"Jane\"\n",
        "print(person.name) # Output: Jane\n"
      ],
      "metadata": {
        "colab": {
          "base_uri": "https://localhost:8080/"
        },
        "id": "Pvk9eTy8vSC2",
        "outputId": "e8c675d8-815a-4156-cf9a-91c5a430f940"
      },
      "execution_count": 4,
      "outputs": [
        {
          "output_type": "stream",
          "name": "stdout",
          "text": [
            "John\n",
            "Jane\n"
          ]
        }
      ]
    },
    {
      "cell_type": "markdown",
      "source": [
        "Q3. What are the key differences in functionality between __getattr__ and __getattribute__, as well as properties and descriptors?"
      ],
      "metadata": {
        "id": "0dfK9S1XnUcd"
      }
    },
    {
      "cell_type": "markdown",
      "source": [
        "getattr is a built-in Python function that is used to access the value of an object's attribute, given its name as a string. It can optionally return a default value if the attribute doesn't exist, or raise an AttributeError if no default value is provided.\n",
        "\n",
        "If an object has a getattribute method, this method will be called every time an attribute is accessed, regardless of whether or not the attribute exists. This makes it possible to control or customize the way attributes are accessed for an object.\n",
        "\n",
        "Properties are a simple mechanism for controlling access to an object's attributes. They are defined using the property built-in function, and allow you to define a getter, setter, and deletor method for an attribute.\n",
        "\n",
        "Descriptors are a more advanced mechanism for controlling access to an object's attributes. They are defined as objects that define one or more of the methods __get__, __set__, or __delete__. When an attribute that is a descriptor is accessed, the appropriate method on the descriptor is called automatically."
      ],
      "metadata": {
        "id": "g1ZpcWr7sgHl"
      }
    },
    {
      "cell_type": "code",
      "source": [],
      "metadata": {
        "id": "678E9sxHnbl6"
      },
      "execution_count": null,
      "outputs": []
    }
  ]
}