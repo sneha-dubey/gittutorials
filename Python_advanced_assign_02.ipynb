{
  "nbformat": 4,
  "nbformat_minor": 0,
  "metadata": {
    "colab": {
      "provenance": []
    },
    "kernelspec": {
      "name": "python3",
      "display_name": "Python 3"
    },
    "language_info": {
      "name": "python"
    }
  },
  "cells": [
    {
      "cell_type": "markdown",
      "source": [
        "Q1. What is the relationship between classes and modules?"
      ],
      "metadata": {
        "id": "IrVDgo2SDMc3"
      }
    },
    {
      "cell_type": "markdown",
      "source": [
        "The relationship between classes and modules is that classes can be defined inside a module and a module can contain multiple classes. Modules provide a way to organize related classes into a single unit, making it easier to manage and reuse code. By importing a module, all of the classes within that module can be accessed and used in another module or program."
      ],
      "metadata": {
        "id": "jPk-E0NcDwrA"
      }
    },
    {
      "cell_type": "markdown",
      "source": [
        "Q2. How do you make instances and classes?"
      ],
      "metadata": {
        "id": "JzAog1vYDQ4M"
      }
    },
    {
      "cell_type": "markdown",
      "source": [
        "Create an instance: An instance of a class is created using the class name as a function. The instance is assigned to a variable, which can be used to access the attributes and methods of the class.\n",
        "#instance = classname()\n",
        "#instance.attribute=value\n",
        "#instance.method()\n",
        "\n",
        "Define a class: A class is defined using the class keyword, followed by the class name and a colon. The class body contains the attributes and methods that are part of the class.\n",
        "#class classname():"
      ],
      "metadata": {
        "id": "oiE_WVXxE-Pb"
      }
    },
    {
      "cell_type": "markdown",
      "source": [
        "Q3. Where and how should be class attributes created?"
      ],
      "metadata": {
        "id": "pfWWxw50DT5K"
      }
    },
    {
      "cell_type": "markdown",
      "source": [
        "Class attributes in Python should be created within the class definition, and typically at the top, outside of any methods. They can be assigned a value when they are defined, or later on, within methods. They are shared among all instances of the class and can be accessed using the class name, or an instance of the class."
      ],
      "metadata": {
        "id": "enkiJ8gzGxxi"
      }
    },
    {
      "cell_type": "code",
      "source": [
        "class ExampleClass:\n",
        "    class_attribute = \"This is a class attribute\"\n",
        "\n",
        "    def __init__(self, attr):\n",
        "        self.instance_attribute = attr\n",
        "\n",
        "    def some_method(self):\n",
        "        print(ExampleClass.class_attribute)\n",
        "\n",
        "example = ExampleClass(\"This is an instance attribute\")\n",
        "print(example.class_attribute)\n",
        "print(example.instance_attribute)"
      ],
      "metadata": {
        "colab": {
          "base_uri": "https://localhost:8080/"
        },
        "id": "Jmb9xjI3DWT2",
        "outputId": "986f040e-29db-4518-fa9b-f8ff3892c9a7"
      },
      "execution_count": 1,
      "outputs": [
        {
          "output_type": "stream",
          "name": "stdout",
          "text": [
            "This is a class attribute\n",
            "This is an instance attribute\n"
          ]
        }
      ]
    },
    {
      "cell_type": "markdown",
      "source": [
        "Q4. Where and how are instance attributes created?"
      ],
      "metadata": {
        "id": "KxOa00i6DXFo"
      }
    },
    {
      "cell_type": "markdown",
      "source": [
        "Instance attributes in Python are created within the class methods, usually the __init__ method. The __init__ method is a special method that is called when an instance of the class is created. Instance attributes are specific to each instance of the class, and can be accessed using the instance name."
      ],
      "metadata": {
        "id": "AaUcqWsBJLQJ"
      }
    },
    {
      "cell_type": "code",
      "source": [
        "class ExampleClass:\n",
        "  class_attribute='This is a class attribute'\n",
        "\n",
        "  def __init__(self,attr):\n",
        "    self.instance_attribute=attr\n",
        "  def some_method(self):\n",
        "    print(self.instance_attribute)\n",
        "\n",
        "example = ExampleClass('This is an instance attribute')\n",
        "print(example.instance_attribute)\n"
      ],
      "metadata": {
        "colab": {
          "base_uri": "https://localhost:8080/"
        },
        "id": "dEYJw9AfJUEb",
        "outputId": "f3549ade-82bf-435f-83af-6c0014f1423e"
      },
      "execution_count": 2,
      "outputs": [
        {
          "output_type": "stream",
          "name": "stdout",
          "text": [
            "This is an instance attribute\n"
          ]
        }
      ]
    },
    {
      "cell_type": "markdown",
      "source": [
        "Q5. What does the term &quot;self&quot; in a Python class mean?"
      ],
      "metadata": {
        "id": "YYXVq_WvDauZ"
      }
    },
    {
      "cell_type": "markdown",
      "source": [
        "Self is a pointer to the class. self acts as a reference to the instance of the class, making it possible to access and modify its attributes from within the class methods."
      ],
      "metadata": {
        "id": "hbcv5M60KXD2"
      }
    },
    {
      "cell_type": "markdown",
      "source": [
        "Q6. How does a Python class handle operator overloading?"
      ],
      "metadata": {
        "id": "xPGm6Zd1Ddj6"
      }
    },
    {
      "cell_type": "markdown",
      "source": [
        "operator overloading allows you to define how operators such as +, -, *, /, etc. behave when applied to instances of a class.This is achieved by implementing special methods in the class that have the double underscore syntax, such as __add__, __sub__, __mul__, __truediv__ ,etc."
      ],
      "metadata": {
        "id": "pnGi-hjELqZU"
      }
    },
    {
      "cell_type": "code",
      "source": [
        "class Vector:\n",
        "    def __init__(self, x, y):\n",
        "        self.x = x\n",
        "        self.y = y\n",
        "\n",
        "    def __add__(self, other):\n",
        "        return Vector(self.x + other.x, self.y + other.y)\n",
        "\n",
        "v1 = Vector(1, 2)\n",
        "v2 = Vector(3, 4)\n",
        "v3 = v1 + v2\n",
        "print(v3.x, v3.y) # Output: 4 6"
      ],
      "metadata": {
        "colab": {
          "base_uri": "https://localhost:8080/"
        },
        "id": "Z9Rlso6EDgTT",
        "outputId": "eb78ac73-5730-41ab-c055-7733c88dce21"
      },
      "execution_count": 3,
      "outputs": [
        {
          "output_type": "stream",
          "name": "stdout",
          "text": [
            "4 6\n"
          ]
        }
      ]
    },
    {
      "cell_type": "markdown",
      "source": [
        "Q7. When do you consider allowing operator overloading of your classes?"
      ],
      "metadata": {
        "id": "sf6cSvdJDgzY"
      }
    },
    {
      "cell_type": "markdown",
      "source": [
        "Whether or not to allow operator overloading in your classes depends on the specific use case and the intended behavior of the class. Here are a few factors to consider when deciding whether to allow operator overloading:\n",
        "\n",
        "1.) Clarity and simplicity\n",
        "\n",
        "2.)Consistency with built-in types\n",
        "\n",
        "3.)Compatibility with other code"
      ],
      "metadata": {
        "id": "NBaU8ZqTNWun"
      }
    },
    {
      "cell_type": "markdown",
      "source": [
        "Q8. What is the most popular form of operator overloading?"
      ],
      "metadata": {
        "id": "cgzc63xQDjgP"
      }
    },
    {
      "cell_type": "markdown",
      "source": [
        "The most popular form of operator overloading in Python is probably the overload of arithmetic operators, such as +, -, *, /, and so on. This is because these operators have a clear meaning in mathematical contexts and are commonly used in numerical calculations and data manipulation.\n",
        "\n",
        "Other forms of operator overloading, such as comparison operators (<, >, ==, !=, etc.), and logical operators (and, or, not, etc.), are also used, but to a lesser extent, as their meanings and behaviors are often less clear and more dependent on the specific use case."
      ],
      "metadata": {
        "id": "Gb_FW7pgPVWR"
      }
    },
    {
      "cell_type": "markdown",
      "source": [
        "Q9. What are the two most important concepts to grasp in order to comprehend Python OOP code?"
      ],
      "metadata": {
        "id": "EXOjSj7uDmjz"
      }
    },
    {
      "cell_type": "markdown",
      "source": [
        "The two most important concepts to grasp in order to comprehend Python OOP code are classes and objects. Classes define blueprint for the objects and objects are instances of classes that have attribute and method."
      ],
      "metadata": {
        "id": "BHzOsjHxEIwU"
      }
    }
  ]
}