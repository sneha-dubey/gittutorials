{
  "nbformat": 4,
  "nbformat_minor": 0,
  "metadata": {
    "colab": {
      "provenance": []
    },
    "kernelspec": {
      "name": "python3",
      "display_name": "Python 3"
    },
    "language_info": {
      "name": "python"
    }
  },
  "cells": [
    {
      "cell_type": "markdown",
      "source": [
        "Q1. In Python 3.X, what are the names and functions of string object types?"
      ],
      "metadata": {
        "id": "ze3VFwmiB1Nb"
      }
    },
    {
      "cell_type": "markdown",
      "source": [
        "n Python 3.x, there are several string object types that have different functions and methods:\n",
        "\n",
        "a.)str : It supports all the basic operations of a sequence, such as indexing, concatenation, and iteration.\n",
        "\n",
        "b.)bytes : It is similar to the str type, but it can only contain ASCII characters. It is used to represent sequences of binary data.\n",
        "\n",
        "c.)bytearray: It allows you to modify individual bytes within the sequence.\n",
        "\n",
        "d.)memoryview : It can be used to efficiently share memory between objects without making a copy."
      ],
      "metadata": {
        "id": "67Uik7ywxNE-"
      }
    },
    {
      "cell_type": "markdown",
      "source": [
        "Q2. How do the string forms in Python 3.X vary in terms of operations?"
      ],
      "metadata": {
        "id": "VQgJKC19CMoq"
      }
    },
    {
      "cell_type": "markdown",
      "source": [
        "string forms in python 3.x vary in terms of operation as it  has a large number of built-in methods for manipulating and transforming its contents, such as upper, lower, strip, split, replace, and more."
      ],
      "metadata": {
        "id": "0AwEULFVyDFl"
      }
    },
    {
      "cell_type": "markdown",
      "source": [
        "Q3. In 3.X, how do you put non-ASCII Unicode characters in a string?"
      ],
      "metadata": {
        "id": "EqUcBclGCOBb"
      }
    },
    {
      "cell_type": "markdown",
      "source": [
        "In Python 3.x, you can put non-ASCII Unicode characters in a str string by encoding the string using a specific encoding, such as UTF-8, and then decoding it back to a str string."
      ],
      "metadata": {
        "id": "V4R6hvtuzpKl"
      }
    },
    {
      "cell_type": "code",
      "source": [
        "# Create a string with non-ASCII characters\n",
        "string = \"Hello, 世界\"\n",
        "\n",
        "# Encode the string as UTF-8\n",
        "utf8_bytes = string.encode(\"utf-8\")\n",
        "\n",
        "# Decode the bytes back to a string\n",
        "decoded_string = utf8_bytes.decode(\"utf-8\")\n",
        "\n",
        "print(decoded_string) # Outputs: \"Hello, 世界\"\n"
      ],
      "metadata": {
        "colab": {
          "base_uri": "https://localhost:8080/"
        },
        "id": "lwZEbgwN3F6j",
        "outputId": "8928ad56-9a82-44d7-8729-446e5ca16873"
      },
      "execution_count": 1,
      "outputs": [
        {
          "output_type": "stream",
          "name": "stdout",
          "text": [
            "Hello, 世界\n"
          ]
        }
      ]
    },
    {
      "cell_type": "markdown",
      "source": [
        "Q4. In Python 3.X, what are the key differences between text-mode and binary-mode files?"
      ],
      "metadata": {
        "id": "4H6JYC10CRXs"
      }
    },
    {
      "cell_type": "markdown",
      "source": [
        "In Python 3.x, the key differences between text-mode and binary-mode files are:\n",
        "\n",
        "a.)Encoding: Text-mode files expect their contents to be encoded as text, usually in a specific character encoding like UTF-8, while binary-mode files expect their contents to be encoded as binary data.\n",
        "\n",
        "b.)Line endings:Text-mode files automatically convert line endings to the appropriate form for the platform they are running on, while binary-mode files preserve the original line endings exactly as they were written.\n",
        "\n",
        "c.)str and bytes:When reading from a text-mode file, the contents are returned as a str string, while when reading from a binary-mode file, the contents are returned as a bytes string. Similarly, when writing to a text-mode file, the contents must be a str string, while when writing to a binary-mode file, the contents must be a bytes string.\n",
        "\n",
        "d.)Error handling: When reading from a text-mode file, if an encoding error is encountered, an exception will be raised. When reading from a binary-mode file, the encoding error is ignored, and the contents are returned as they are."
      ],
      "metadata": {
        "id": "JhDu9Bcx3g4g"
      }
    },
    {
      "cell_type": "markdown",
      "source": [
        "Q5. How can you interpret a Unicode text file containing text encoded in a different encoding than\n",
        "your platform&#39;s default?"
      ],
      "metadata": {
        "id": "84L9fH6sCVW4"
      }
    },
    {
      "cell_type": "markdown",
      "source": [
        "To interpret a Unicode text file containing text encoded in a different encoding than your platform's default, you need to explicitly specify the correct encoding when reading the file. You can do this by opening the file in text mode, and then specifying the encoding when opening the file."
      ],
      "metadata": {
        "id": "7MTDskxf43Fv"
      }
    },
    {
      "cell_type": "code",
      "source": [
        "# # Open the file in text mode, specifying the encoding\n",
        "# with open(\"file.txt\", \"r\", encoding=\"encoding\") as f:\n",
        "#     # Read the contents of the file as a string\n",
        "#     text = f.read()\n",
        "\n",
        "# # Do something with the text\n",
        "# print(text)\n"
      ],
      "metadata": {
        "id": "GaGlFedZ5rnG"
      },
      "execution_count": 3,
      "outputs": []
    },
    {
      "cell_type": "markdown",
      "source": [
        "Q6. What is the best way to make a Unicode text file in a particular encoding format?"
      ],
      "metadata": {
        "id": "hAXxWEZaCYTA"
      }
    },
    {
      "cell_type": "markdown",
      "source": [
        "The best way to make a Unicode text file in a particular encoding format is to write the text to a file in binary mode, and then encode the text using the desired encoding format before writing it to the file."
      ],
      "metadata": {
        "id": "N9wbjFBC6P57"
      }
    },
    {
      "cell_type": "code",
      "source": [
        "# # The text to be written to the file\n",
        "# text = \"hello, world!\"\n",
        "\n",
        "# # Encode the text using the desired encoding\n",
        "# encoded_text = text.encode(\"encoding\")\n",
        "\n",
        "# # Open the file in binary mode\n",
        "# with open(\"file.txt\", \"wb\") as f:\n",
        "#     # Write the encoded text to the file\n",
        "#     f.write(encoded_text)\n"
      ],
      "metadata": {
        "id": "b8qh-ktmCajC"
      },
      "execution_count": 5,
      "outputs": []
    },
    {
      "cell_type": "markdown",
      "source": [
        "Q7. What qualifies ASCII text as a form of Unicode text?"
      ],
      "metadata": {
        "id": "YxSUYV1pCbJ_"
      }
    },
    {
      "cell_type": "markdown",
      "source": [
        "ASCII text is a form of Unicode text in the sense that ASCII is a subset of Unicode. ASCII is a character encoding standard that uses 7 bits to represent 128 characters, including the English alphabet, numerals, punctuation, and control characters.Unicode, is a universal character encoding standard that aims to represent all characters used in all writing systems, as well as symbols and emoji, in a consistent and standardized way."
      ],
      "metadata": {
        "id": "WpXnqyaL6-xe"
      }
    },
    {
      "cell_type": "markdown",
      "source": [
        "Q8. How much of an effect does the change in string types in Python 3.X have on your code?"
      ],
      "metadata": {
        "id": "ecqoxb5oCdxM"
      }
    },
    {
      "cell_type": "markdown",
      "source": [
        "The change in string types in Python 3.x can have a significant effect on your code, depending on the size and complexity of your codebase and the way that strings are used in your code.\n",
        "\n",
        "In Python 3.x, strings are represented as str objects, which are used to represent text data, and bytes objects, which are used to represent binary data. This change in string types can make it easier to write clear and correct code, as it makes it more explicit which type of data is being manipulated."
      ],
      "metadata": {
        "id": "Zb5SvZ4Y7lBy"
      }
    }
  ]
}