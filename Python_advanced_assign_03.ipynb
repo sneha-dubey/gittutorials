{
  "nbformat": 4,
  "nbformat_minor": 0,
  "metadata": {
    "colab": {
      "provenance": []
    },
    "kernelspec": {
      "name": "python3",
      "display_name": "Python 3"
    },
    "language_info": {
      "name": "python"
    }
  },
  "cells": [
    {
      "cell_type": "markdown",
      "source": [
        "1. What is the concept of an abstract superclass?"
      ],
      "metadata": {
        "id": "PC3bEzlCSHKI"
      }
    },
    {
      "cell_type": "markdown",
      "source": [
        "An abstract superclass defines a common interface or set of properties and methods that are shared by all of its subclasses, and forces the subclasses to implement certain methods in order to inherit the abstract class's properties and behavior.In Python, an abstract superclass is typically created using the abc (abstract base class) module, which provides a ABC class that can be used as a base class for defining abstract classes."
      ],
      "metadata": {
        "id": "50goZ6QuSe61"
      }
    },
    {
      "cell_type": "markdown",
      "source": [
        "2. What happens when a class statement&#39;s top level contains a basic assignment statement?"
      ],
      "metadata": {
        "id": "icPzq3asSJc3"
      }
    },
    {
      "cell_type": "markdown",
      "source": [
        "when a class statement's top level contains a basic assignment statement, it creates a class variable that is shared by all instances of the class.\n",
        "\n",
        "instance variables are unique to each instance of the class, and are defined in the __init__ method using the self reference."
      ],
      "metadata": {
        "id": "I2pqj-W0UPGR"
      }
    },
    {
      "cell_type": "markdown",
      "source": [
        "3. Why does a class need to manually call a superclass&#39;s __init__ method?"
      ],
      "metadata": {
        "id": "kWcWA6jISOGc"
      }
    },
    {
      "cell_type": "markdown",
      "source": [
        "while it is not strictly necessary to manually call the superclass's __init__ method, doing so can be useful in certain situations when you want to extend or modify the behavior of the superclass's __init__ method.\n"
      ],
      "metadata": {
        "id": "Ovfyh-g3UtmO"
      }
    },
    {
      "cell_type": "code",
      "source": [
        "class Superclass:\n",
        "    def __init__(self, value):\n",
        "        self.value = value\n",
        "\n",
        "class Subclass(Superclass):\n",
        "    def __init__(self, value, additional_value):\n",
        "        super().__init__(value)\n",
        "        self.additional_value = additional_value\n",
        "\n",
        "sub = Subclass(10, 20)\n",
        "print(sub.value) # Output: 10\n",
        "print(sub.additional_value) # Output: 20\n"
      ],
      "metadata": {
        "colab": {
          "base_uri": "https://localhost:8080/"
        },
        "id": "xDsb8LwTSRjz",
        "outputId": "69859e2d-d849-43bf-d707-35a207914e31"
      },
      "execution_count": 1,
      "outputs": [
        {
          "output_type": "stream",
          "name": "stdout",
          "text": [
            "10\n",
            "20\n"
          ]
        }
      ]
    },
    {
      "cell_type": "markdown",
      "source": [
        "4. How can you augment, instead of completely replacing, an inherited method?"
      ],
      "metadata": {
        "id": "3Hd2RpUgSSAO"
      }
    },
    {
      "cell_type": "markdown",
      "source": [
        "To augment an inherited method, instead of completely replacing it, you can call the inherited method within the new method using the super function. This allows you to extend or modify the behavior of the inherited method.\n",
        "\n",
        "If you have a subclass that inherits from this superclass and you want to add some additional behavior to the method without completely replacing it."
      ],
      "metadata": {
        "id": "GEFwbT-7VtCV"
      }
    },
    {
      "cell_type": "code",
      "source": [
        "class Superclass:\n",
        "    def method(self):\n",
        "        print(\"Superclass method\")"
      ],
      "metadata": {
        "id": "Yo00he0uSVj2"
      },
      "execution_count": 2,
      "outputs": []
    },
    {
      "cell_type": "code",
      "source": [
        "class Subclass(Superclass):\n",
        "    def method(self):\n",
        "        super().method()\n",
        "        print(\"Subclass method\")\n",
        "\n",
        "sub = Subclass()\n",
        "sub.method()\n"
      ],
      "metadata": {
        "colab": {
          "base_uri": "https://localhost:8080/"
        },
        "id": "YU2EsbeXWdih",
        "outputId": "325b0061-ff39-4cc9-b172-1bff8ac05859"
      },
      "execution_count": 3,
      "outputs": [
        {
          "output_type": "stream",
          "name": "stdout",
          "text": [
            "Superclass method\n",
            "Subclass method\n"
          ]
        }
      ]
    },
    {
      "cell_type": "markdown",
      "source": [
        "5. How is the local scope of a class different from that of a function?"
      ],
      "metadata": {
        "id": "I5cO-cbySWGY"
      }
    },
    {
      "cell_type": "markdown",
      "source": [
        "The local scope of a class provides a way to define variables and methods that are shared by all instances of the class and can be inherited by subclasses, while the local scope of a function provides a way to define variables and functions that are specific to a single function call.\n",
        "\n",
        "The local scope of a class is different from that of a function in several ways.\n",
        "\n",
        "1.)Lifetime: The local scope of a class lasts for the entire lifetime of the class, while the local scope of a function lasts only for the duration of the function call.\n",
        "\n",
        "2.)Accessibility:The local scope of a class is accessible from all methods within the class, while the local scope of a function is only accessible from within the function.\n",
        "\n",
        "3.)class variables:The local scope of a class can contain class variables, which are shared by all instances of the class and can be accessed using the class name  while, the local scope of a function cannot contain class variables and only contains local variables, which are specific to the function call and cannot be accessed outside of the function.\n",
        "\n",
        "4.)Inheritance: The local scope of a subclass can inherit variables and methods from the local scope of its superclass, while the local scope of a function cannot inherit from another function's local scope."
      ],
      "metadata": {
        "id": "wqGssdA1W3Yq"
      }
    },
    {
      "cell_type": "code",
      "source": [],
      "metadata": {
        "id": "7M5C7utdZeBQ"
      },
      "execution_count": null,
      "outputs": []
    }
  ]
}