{
  "nbformat": 4,
  "nbformat_minor": 0,
  "metadata": {
    "colab": {
      "provenance": []
    },
    "kernelspec": {
      "name": "python3",
      "display_name": "Python 3"
    },
    "language_info": {
      "name": "python"
    }
  },
  "cells": [
    {
      "cell_type": "markdown",
      "source": [
        "Q1. Which two operator overloading methods can you use in your classes to support iteration?"
      ],
      "metadata": {
        "id": "BgVJOR3TpFwK"
      }
    },
    {
      "cell_type": "markdown",
      "source": [
        "The two operator overloading methods used to support iteration in classes are __iter__ and __next__ methods.\n",
        "\n",
        "The __iter__ method is called to get an iterator object for the class and it should return self.\n",
        "\n",
        "The __next__ method is called for each iteration and should return the next item or raise a StopIteration exception when there are no more items to return.\n",
        "\n",
        "Together, these methods allow the object of the class to be used in a for loop or any other context where iteration is used."
      ],
      "metadata": {
        "id": "EzKskabnq9cT"
      }
    },
    {
      "cell_type": "markdown",
      "source": [
        "Q2. In what contexts do the two operator overloading methods manage printing?"
      ],
      "metadata": {
        "id": "ego8bcxipIfi"
      }
    },
    {
      "cell_type": "markdown",
      "source": [
        "The two operator overloading methods used to manage printing in a class are __str__ and __repr__.\n",
        "\n",
        "The __str__ method returns a human-readable string representation of the object, which is used by the built-in print function and str method. This representation should be brief and convey the essence of the object.\n",
        "\n",
        "The __repr__ method returns a string representation of the object that is unambiguous and can be used to recreate an object. This representation is used by the built-in repr function and the interactive interpreter. The string returned by __repr__ should be a valid Python expression.\n",
        "\n",
        "By overloading these methods, you can customize how your objects are printed and represented in a way that makes sense for your specific use case."
      ],
      "metadata": {
        "id": "LJmrA9HXrwgJ"
      }
    },
    {
      "cell_type": "markdown",
      "source": [
        "Q3. In a class, how do you intercept slice operations?"
      ],
      "metadata": {
        "id": "WnNcKnVJpLdl"
      }
    },
    {
      "cell_type": "markdown",
      "source": [
        "In a class, you can intercept slice operations by using the __getitem__ method.\n",
        "\n",
        "The __getitem__ method is called whenever the object is indexed, including when slicing. The method takes an index or slice object as an argument and should return the corresponding item or a slice of items."
      ],
      "metadata": {
        "id": "NCkwfM4NsTHI"
      }
    },
    {
      "cell_type": "code",
      "source": [
        "class MyList:\n",
        "    def __init__(self, items):\n",
        "        self.items = items\n",
        "\n",
        "    def __getitem__(self, index):\n",
        "        if isinstance(index, slice):\n",
        "            start, stop, step = index.indices(len(self.items))\n",
        "            return [self.items[i] for i in range(start, stop, step)]\n",
        "        else:\n",
        "            return self.items[index]\n"
      ],
      "metadata": {
        "id": "I2zoEuG_scpY"
      },
      "execution_count": 1,
      "outputs": []
    },
    {
      "cell_type": "markdown",
      "source": [
        "Q4. In a class, how do you capture in-place addition?"
      ],
      "metadata": {
        "id": "CbvPBC0CpOKo"
      }
    },
    {
      "cell_type": "markdown",
      "source": [
        "In a class, you can capture in-place addition by overloading the __iadd__ method. The __iadd__ method is called when the += operator is used with an object of the class. It should modify the object in-place and return it.\n",
        "\n"
      ],
      "metadata": {
        "id": "oqiPWuMQsxKG"
      }
    },
    {
      "cell_type": "code",
      "source": [
        "class MyList:\n",
        "    def __init__(self, items):\n",
        "        self.items = items\n",
        "\n",
        "    def __iadd__(self, other):\n",
        "        if isinstance(other, MyList):\n",
        "            self.items += other.items\n",
        "        else:\n",
        "            self.items += other\n",
        "        return self\n"
      ],
      "metadata": {
        "id": "kOLqazdPpQPN"
      },
      "execution_count": 2,
      "outputs": []
    },
    {
      "cell_type": "code",
      "source": [],
      "metadata": {
        "id": "kb_hBRK1te0L"
      },
      "execution_count": null,
      "outputs": []
    },
    {
      "cell_type": "code",
      "source": [
        "my_list = MyList([1, 2, 3])\n",
        "my_list2 = MyList([4, 5, 6])\n",
        "my_list += my_list2\n",
        "my_list.items"
      ],
      "metadata": {
        "colab": {
          "base_uri": "https://localhost:8080/"
        },
        "id": "0JNOijcNs8ou",
        "outputId": "4cf35aff-f761-4b23-ef07-3ab46299c35e"
      },
      "execution_count": 3,
      "outputs": [
        {
          "output_type": "execute_result",
          "data": {
            "text/plain": [
              "[1, 2, 3, 4, 5, 6]"
            ]
          },
          "metadata": {},
          "execution_count": 3
        }
      ]
    },
    {
      "cell_type": "markdown",
      "source": [
        "Q5. When is it appropriate to use operator overloading?"
      ],
      "metadata": {
        "id": "fqZdqWCSpQvv"
      }
    },
    {
      "cell_type": "markdown",
      "source": [
        "Operator overloading is appropriate when it makes the code more readable, intuitive, and less prone to bugs by allowing the use of operators (such as +, -, *, etc.) with user-defined types in a natural way. It's particularly useful in mathematics-heavy domains and where objects of a custom class need to be combined or compared. However, it's important to note that overloading should be used in moderation, as overloading can make code harder to understand and maintain if not done carefully."
      ],
      "metadata": {
        "id": "sAHEXVKLqyWH"
      }
    }
  ]
}