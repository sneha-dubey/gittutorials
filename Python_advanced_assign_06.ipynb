{
  "nbformat": 4,
  "nbformat_minor": 0,
  "metadata": {
    "colab": {
      "provenance": []
    },
    "kernelspec": {
      "name": "python3",
      "display_name": "Python 3"
    },
    "language_info": {
      "name": "python"
    }
  },
  "cells": [
    {
      "cell_type": "markdown",
      "source": [
        "Q1. Describe three applications for exception processing."
      ],
      "metadata": {
        "id": "mDHowk4lhRif"
      }
    },
    {
      "cell_type": "markdown",
      "source": [
        "1.)Error handling in software development: Exception processing is often used to handle unexpected errors and exceptions that occur during the execution of a program. This can include handling cases such as file not found, invalid input, and unexpected runtime errors.\n",
        "\n",
        "2.)Network communication: In network communication, exceptions can be raised when a connection is lost or when there is a timeout waiting for a response. Exception processing can be used to handle these cases and provide an appropriate response, such as retrying the connection or informing the user of the failure.\n",
        "\n",
        "3.)Financial transactions: In financial transactions, exceptions can be raised in case of invalid input, insufficient funds, or other transaction failures. Exception processing can be used to handle these cases and provide an appropriate response, such as rejecting the transaction or providing a notification to the user."
      ],
      "metadata": {
        "id": "yjDVgaRZ6XLq"
      }
    },
    {
      "cell_type": "markdown",
      "source": [
        "Q2. What happens if you don&#39;t do something extra to treat an exception?"
      ],
      "metadata": {
        "id": "mLxYbYLghUdj"
      }
    },
    {
      "cell_type": "markdown",
      "source": [
        "If an exception occurs in a program and it is not handled properly, it will cause the program to terminate abnormally. The program will stop executing and any unsaved data or changes will be lost. If the exception is not caught or handled, it will propagate up the call stack, potentially causing the program to crash. This can lead to unexpected results and can make the program unreliable. To avoid these problems, it's important to catch and handle exceptions properly, either by using try-except blocks or by declaring the exceptions that a function may raise."
      ],
      "metadata": {
        "id": "yn15DbnflDIh"
      }
    },
    {
      "cell_type": "markdown",
      "source": [
        "Q3. What are your options for recovering from an exception in your script?"
      ],
      "metadata": {
        "id": "5IxGGO8FhYpU"
      }
    },
    {
      "cell_type": "markdown",
      "source": [
        "There are several options for recovering from an exception in a script:\n",
        "\n",
        "a.)Try-catch block\n",
        "\n",
        "b.)Return error codes\n",
        "\n",
        "c.)Use built-in exception handling mechanism\n",
        "\n",
        "d.)Implement custom exception classes"
      ],
      "metadata": {
        "id": "gZdrWkS-7fkJ"
      }
    },
    {
      "cell_type": "markdown",
      "source": [
        "Q4. Describe two methods for triggering exceptions in your script."
      ],
      "metadata": {
        "id": "n9vv2mlihgWR"
      }
    },
    {
      "cell_type": "markdown",
      "source": [
        "a.) Raise an exception explicitly: In many programming languages, including Python, you can raise an exception explicitly using a \"raise\" statement. For example, in Python, you can raise a ValueError exception with a custom error message like this: raise ValueError(\"Invalid value\"). This can be used to trigger an exception when a specific error condition occurs in your code.\n",
        "\n",
        "b.) Triggering exceptions through errors in the code: Exceptions can also be triggered automatically in response to errors in the code, such as invalid function arguments, divide by zero errors, or access to undefined variables. For example, in Python, if you try to divide by zero, a ZeroDivisionError exception will be raised automatically."
      ],
      "metadata": {
        "id": "zYiKqdm58-Db"
      }
    },
    {
      "cell_type": "markdown",
      "source": [
        "Q5. Identify two methods for specifying actions to be executed at termination time, regardless of\n",
        "whether or not an exception exists."
      ],
      "metadata": {
        "id": "Tdw9w5zehj3p"
      }
    },
    {
      "cell_type": "markdown",
      "source": [
        "a.)Using a finally block: In many programming languages, including Python, you can use a \"finally\" block to specify code that should be executed when a try-catch block is finished, regardless of whether an exception was raised or not.\n",
        "\n",
        "b.)Using a context manager: In some programming languages, including Python, you can use context managers to specify code that should be executed when a block of code is entered and exited."
      ],
      "metadata": {
        "id": "HWJM5zqg9QhA"
      }
    }
  ]
}