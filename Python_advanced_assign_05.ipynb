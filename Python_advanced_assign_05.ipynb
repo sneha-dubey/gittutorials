{
  "nbformat": 4,
  "nbformat_minor": 0,
  "metadata": {
    "colab": {
      "provenance": []
    },
    "kernelspec": {
      "name": "python3",
      "display_name": "Python 3"
    },
    "language_info": {
      "name": "python"
    }
  },
  "cells": [
    {
      "cell_type": "markdown",
      "source": [
        "Q1. What is the meaning of multiple inheritance?"
      ],
      "metadata": {
        "id": "8aKGG2obu2-m"
      }
    },
    {
      "cell_type": "markdown",
      "source": [
        "The purpose of multiple inheritance is to provide a way for a class to inherit the behavior of multiple classes and avoid code duplication. This can be useful in scenarios where a class needs to exhibit the characteristics of multiple distinct classes.\n",
        "\n",
        "However, multiple inheritance can also lead to conflicts, such as ambiguity in cases where two parent classes have methods with the same name. To resolve this, some programming languages have adopted alternative solutions, such as mixins or interfaces, to provide similar functionality without the issues associated with multiple inheritance."
      ],
      "metadata": {
        "id": "_c4CMtYXvgE8"
      }
    },
    {
      "cell_type": "markdown",
      "source": [
        "Q2. What is the concept of delegation?"
      ],
      "metadata": {
        "id": "prKyvbvCu_9p"
      }
    },
    {
      "cell_type": "markdown",
      "source": [
        "The concept of delegation in object-oriented programming (OOP) refers to the process of assigning responsibility and authority to another object to carry out a task or decision-making process. This is often accomplished through the use of object composition, where one object contains or is composed of one or more other objects. The containing object, known as the delegate, delegates certain responsibilities and behaviors to its contained objects.\n",
        "\n",
        "Overall, delegation is a powerful technique for organizing and combining objects in OOP, providing a way to create complex and specialized objects while still maintaining separation of concerns and encapsulation."
      ],
      "metadata": {
        "id": "va_Fvnp9doZS"
      }
    },
    {
      "cell_type": "markdown",
      "source": [
        "Q3. What is the concept of composition?"
      ],
      "metadata": {
        "id": "h26Oto7ivHqg"
      }
    },
    {
      "cell_type": "markdown",
      "source": [
        "Composition is a concept in object-oriented programming that refers to the relationship between classes where one class, called the \"composite,\" is made up of or \"composed\" of several smaller classes, called \"components.\n",
        "\n",
        "The composite class uses the functionality of its components to provide a new, higher-level functionality. In this way, composition provides a way to combine the behaviors and characteristics of multiple classes into a single, more complex class. This allows for more flexible and reusable code, as well as a better organization of code into smaller, more manageable units. Unlike inheritance, which creates a new class based on an existing class, composition allows multiple classes to be combined in a more dynamic and flexible way, providing greater control over the relationships between classes."
      ],
      "metadata": {
        "id": "joCpWanTWJEd"
      }
    },
    {
      "cell_type": "markdown",
      "source": [
        "Q4. What are bound methods and how do we use them?"
      ],
      "metadata": {
        "id": "jUkizJYRvMvL"
      }
    },
    {
      "cell_type": "code",
      "source": [
        "class Person:\n",
        "    def __init__(self, name):\n",
        "        self.name = name\n",
        "    \n",
        "    def greet(self):\n",
        "        print(f\"Hello, I am {self.name}\")\n",
        "\n",
        "person = Person(\"John\")\n",
        "greeting = person.greet\n",
        "greeting()  # Output: Hello, I am John\n"
      ],
      "metadata": {
        "id": "ijupvDQdvNVw",
        "colab": {
          "base_uri": "https://localhost:8080/"
        },
        "outputId": "640e7cb1-f04e-4106-daf5-381a61c7e8c6"
      },
      "execution_count": 1,
      "outputs": [
        {
          "output_type": "stream",
          "name": "stdout",
          "text": [
            "Hello, I am John\n"
          ]
        }
      ]
    },
    {
      "cell_type": "markdown",
      "source": [
        "Bound methods are a type of method in Python that are associated with an instance of a class. They are created when a method is called on an instance of a class, and they have access to the instance's attributes and methods. A bound method is \"bound\" to the instance it was called on, meaning that it has a reference to the instance and can access its data.\n",
        "\n",
        "Bound methods are used in Python to access the behavior and data of an instance of a class. "
      ],
      "metadata": {
        "id": "D4xKHL7lX2xd"
      }
    },
    {
      "cell_type": "markdown",
      "source": [
        "Q5. What is the purpose of pseudoprivate attributes?"
      ],
      "metadata": {
        "id": "oXSbeaqPvNyF"
      }
    },
    {
      "cell_type": "markdown",
      "source": [
        "Pseudoprivate attributes in Python are class attributes that have a name that starts with an underscore (e.g., _attribute). These attributes are not strictly private, as they can still be accessed from outside the class, but the underscore is a convention used to indicate that they are intended to be used only within the class and are not part of the class's public interface.\n",
        "\n",
        "The purpose of pseudoprivate attributes is to indicate that these attributes should not be accessed directly by external code. This provides a level of encapsulation and protection for the internal workings of a class, and helps to prevent unintended behavior that could result from direct access to the attributes."
      ],
      "metadata": {
        "id": "rhjeVvpqdN8h"
      }
    }
  ]
}