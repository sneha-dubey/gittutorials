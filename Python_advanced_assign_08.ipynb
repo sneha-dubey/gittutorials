{
  "nbformat": 4,
  "nbformat_minor": 0,
  "metadata": {
    "colab": {
      "provenance": []
    },
    "kernelspec": {
      "name": "python3",
      "display_name": "Python 3"
    },
    "language_info": {
      "name": "python"
    }
  },
  "cells": [
    {
      "cell_type": "markdown",
      "source": [
        "Q1. What are the two latest user-defined exception constraints in Python 3.X?"
      ],
      "metadata": {
        "id": "24BoisT1wK4F"
      }
    },
    {
      "cell_type": "markdown",
      "source": [
        "In Python 3.x, user-defined exceptions should follow two constraints:\n",
        "\n",
        "a.)Inheritance: User-defined exceptions should be derived from the Exception class or a subclass of Exception. This ensures that the exception can be caught and handled by standard exception handling mechanisms.\n",
        "\n",
        "b.)Documentation: User-defined exceptions should include documentation that clearly explains the circumstances under which the exception will be raised. This helps to ensure that the exception is used consistently and correctly throughout the codebase."
      ],
      "metadata": {
        "id": "9-bsmTRS2v_O"
      }
    },
    {
      "cell_type": "markdown",
      "source": [
        "Q2. How are class-based exceptions that have been raised matched to handlers?"
      ],
      "metadata": {
        "id": "5El1EeMFwQh-"
      }
    },
    {
      "cell_type": "markdown",
      "source": [
        "class-based exceptions that have been raised are matched to handlers using the class hierarchy of the exception objects. The exception hierarchy is established through inheritance, with more specific exceptions being derived from more general exceptions.\n",
        "\n",
        "When an exception is raised, the interpreter looks for an exception handler in the current function or in the call stack. The first handler that matches the class of the raised exception, or one of its superclasses, is executed. The match is based on the class hierarchy of the exception, rather than its value or message."
      ],
      "metadata": {
        "id": "tFgsxwgj3oYC"
      }
    },
    {
      "cell_type": "code",
      "source": [
        "try:\n",
        "    # some code that might raise an exception\n",
        "except ValueError:\n",
        "    # handle ValueError exceptions\n",
        "except Exception:\n",
        "    # handle all other exceptions\n"
      ],
      "metadata": {
        "colab": {
          "base_uri": "https://localhost:8080/",
          "height": 130
        },
        "id": "dkCipbx0wTE_",
        "outputId": "bfc5f63b-037b-44ee-a0e7-0cce10cece3f"
      },
      "execution_count": 1,
      "outputs": [
        {
          "output_type": "error",
          "ename": "IndentationError",
          "evalue": "ignored",
          "traceback": [
            "\u001b[0;36m  File \u001b[0;32m\"<ipython-input-1-29ecde313672>\"\u001b[0;36m, line \u001b[0;32m3\u001b[0m\n\u001b[0;31m    except ValueError:\u001b[0m\n\u001b[0m    ^\u001b[0m\n\u001b[0;31mIndentationError\u001b[0m\u001b[0;31m:\u001b[0m expected an indented block\n"
          ]
        }
      ]
    },
    {
      "cell_type": "markdown",
      "source": [
        "Q3. Describe two methods for attaching context information to exception artefacts."
      ],
      "metadata": {
        "id": "JF2zdhaxwTjC"
      }
    },
    {
      "cell_type": "markdown",
      "source": [
        "a.)Custom exception classes: One way to attach context information to an exception is to define a custom exception class that includes additional attributes or properties to store the desired information.\n",
        "\n",
        "b.)Exception arguments: Another way to attach context information to an exception is to include it as an argument when raising the exception.\n",
        "\n",
        "In both cases, the additional context information can be accessed within the exception handler and used to provide more information about the error or exception, or to make more informed decisions about how to handle the exception."
      ],
      "metadata": {
        "id": "56NPnMuf6nRC"
      }
    },
    {
      "cell_type": "markdown",
      "source": [
        "Q4. Describe two methods for specifying the text of an exception object&#39;s error message."
      ],
      "metadata": {
        "id": "9PBsGncLwWjD"
      }
    },
    {
      "cell_type": "markdown",
      "source": [
        "a.)str method: One way to specify the error message of an exception object is to override the str method of the exception class. The str method should return a string representation of the error message that will be displayed when the exception is raised. \n",
        "\n",
        "b.)args attribute: Another way to specify the error message of an exception object is to include it as an argument when raising the exception. The error message will be stored as the first element of the args attribute of the exception object.\n",
        "\n",
        "In both cases, the error message can be displayed or processed in the exception handler, allowing for more informed decisions about how to handle the exception."
      ],
      "metadata": {
        "id": "H9O2Wg7h8QsC"
      }
    },
    {
      "cell_type": "markdown",
      "source": [
        "Q5. Why do you no longer use string-based exceptions?"
      ],
      "metadata": {
        "id": "rjnatcP6wZTo"
      }
    },
    {
      "cell_type": "markdown",
      "source": [
        "String-based exceptions, which were used in earlier versions of Python, are no longer recommended for use because they have several limitations. Some reasons for not using string-based exceptions are:\n",
        "\n",
        "a.) Lack of standardization\n",
        "\n",
        "b.)Poor error handling\n",
        "\n",
        "c.)Inadequate debugging support\n",
        "\n",
        "d.)Unintended consequences"
      ],
      "metadata": {
        "id": "OwJPaGYVw6jE"
      }
    },
    {
      "cell_type": "code",
      "source": [],
      "metadata": {
        "id": "puhXG_Wpwbhe"
      },
      "execution_count": null,
      "outputs": []
    }
  ]
}