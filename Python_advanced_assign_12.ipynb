{
  "nbformat": 4,
  "nbformat_minor": 0,
  "metadata": {
    "colab": {
      "provenance": []
    },
    "kernelspec": {
      "name": "python3",
      "display_name": "Python 3"
    },
    "language_info": {
      "name": "python"
    }
  },
  "cells": [
    {
      "cell_type": "markdown",
      "source": [
        "Q1. Does assigning a value to a string&#39;s indexed character violate Python&#39;s string immutability?"
      ],
      "metadata": {
        "id": "alGCfFtJJ53-"
      }
    },
    {
      "cell_type": "code",
      "source": [
        "# s = \"hello\"\n",
        "# s[1] = \"a\"  # This will raise a TypeError\n",
        "\n",
        "# # Instead, you can create a new string with the modified value\n",
        "# s = s[:1] + \"a\" + s[2:]\n",
        "# print(s)  # Output: \"hallo\""
      ],
      "metadata": {
        "id": "M79-kQVNJ-Gh"
      },
      "execution_count": 2,
      "outputs": []
    },
    {
      "cell_type": "markdown",
      "source": [
        "When you assign a value to a string's indexed character, you are not actually modifying the string itself, but rather creating a new string object that contains the modified value."
      ],
      "metadata": {
        "id": "wvzyjXSgJ-hl"
      }
    },
    {
      "cell_type": "markdown",
      "source": [
        "Q2. Does using the += operator to concatenate strings violate Python&#39;s string immutability? Why or\n",
        "why not?"
      ],
      "metadata": {
        "id": "b2ueNuveK0El"
      }
    },
    {
      "cell_type": "markdown",
      "source": [
        "Using the += operator to concatenate strings in Python does not violate string immutability because it does not modify the original string in place. Instead, it creates a new string object that is the concatenation of the original string and the new string."
      ],
      "metadata": {
        "id": "82wP5_b0LUYl"
      }
    },
    {
      "cell_type": "code",
      "source": [
        "s1 = \"hello\"\n",
        "s2 = \"world\"\n",
        "s1 += s2\n",
        "print(s1)\n"
      ],
      "metadata": {
        "colab": {
          "base_uri": "https://localhost:8080/"
        },
        "id": "sUe0G6I2Kawd",
        "outputId": "3b569895-3004-453e-8c8a-0c48da6ae382"
      },
      "execution_count": 3,
      "outputs": [
        {
          "output_type": "stream",
          "name": "stdout",
          "text": [
            "helloworld\n"
          ]
        }
      ]
    },
    {
      "cell_type": "markdown",
      "source": [
        "Q3. In Python, how many different ways are there to index a character?"
      ],
      "metadata": {
        "id": "Dc486RDhLjsD"
      }
    },
    {
      "cell_type": "markdown",
      "source": [
        "In Python, there are two different ways to index a character in a string: positive indexing and negative indexing.\n",
        "\n",
        "Positive indexing refers to the convention of indexing elements in a sequence starting from zero, where the first element is at index 0, the second element is at index 1, and so on.\n",
        "\n",
        "egative indexing, on the other hand, refers to the convention of indexing elements in a sequence starting from the end of the sequence, where the last element is at index -1, the second-to-last element is at index -2, and so on."
      ],
      "metadata": {
        "id": "08nYmK1oL7oN"
      }
    },
    {
      "cell_type": "markdown",
      "source": [
        "Q4. What is the relationship between indexing and slicing?"
      ],
      "metadata": {
        "id": "aa-JE2TGMKRB"
      }
    },
    {
      "cell_type": "markdown",
      "source": [
        " slicing is a way to extract a portion of a sequence, such as a string, list, or tuple. Slicing is performed using square brackets [], and takes two or three arguments: start, stop, and step. The start argument specifies the index at which to start the slice (inclusive), the stop argument specifies the index at which to end the slice (exclusive), and the step argument specifies the stride of the slice.\n",
        "\n",
        " Indexing is a way to access a single element of a sequence by its position in the sequence. Indexing is also performed using square brackets [], but only takes a single argument: the index of the element to be accessed.\n",
        " \n",
        "The relationship between indexing and slicing is that slicing is a more general operation that includes indexing as a special case. When you slice a sequence with a start and stop value that differ by exactly 1, you are essentially performing an indexing operation to retrieve a single element. For example, given a string s = \"hello\", the following indexing and slicing operations are equivalent:"
      ],
      "metadata": {
        "id": "wUrsPaLLMUPb"
      }
    },
    {
      "cell_type": "code",
      "source": [
        "print(s[0])     # Output: \"h\"\n",
        "print(s[0:1])   # Output: \"h\"\n"
      ],
      "metadata": {
        "colab": {
          "base_uri": "https://localhost:8080/"
        },
        "id": "lD5QjGkTMOls",
        "outputId": "a29f87b8-0158-4f82-c37c-0c0c30cbd1a9"
      },
      "execution_count": 4,
      "outputs": [
        {
          "output_type": "stream",
          "name": "stdout",
          "text": [
            "h\n",
            "h\n"
          ]
        }
      ]
    },
    {
      "cell_type": "markdown",
      "source": [
        "Q5. What is an indexed character&#39;s exact data type? What is the data form of a slicing-generated\n",
        "substring?"
      ],
      "metadata": {
        "id": "SJHJAyaPNf7p"
      }
    },
    {
      "cell_type": "markdown",
      "source": [
        "In Python, an indexed character in a string has the data type of a string. Specifically, when you use indexing to extract a single character from a string, the result is a new string object containing that character.\n",
        "\n",
        "When you use slicing to extract a substring from a string, the result is also a string object. "
      ],
      "metadata": {
        "id": "ENKwJfK8N54W"
      }
    },
    {
      "cell_type": "code",
      "source": [
        "s = \"hello\"\n",
        "c = s[0]\n",
        "print(type(c))  # Output: <class 'str'>\n"
      ],
      "metadata": {
        "colab": {
          "base_uri": "https://localhost:8080/"
        },
        "id": "m8HOJjCKONDu",
        "outputId": "a7f22c78-27fe-42aa-fc68-39603e17f301"
      },
      "execution_count": 5,
      "outputs": [
        {
          "output_type": "stream",
          "name": "stdout",
          "text": [
            "<class 'str'>\n"
          ]
        }
      ]
    },
    {
      "cell_type": "code",
      "source": [
        "s = \"hello\"\n",
        "substring = s[1:4]\n",
        "print(type(substring))  # Output: <class 'str'>\n"
      ],
      "metadata": {
        "colab": {
          "base_uri": "https://localhost:8080/"
        },
        "id": "d75fE3g6Oz-J",
        "outputId": "eccfb36a-411b-4c55-d3f0-4f4723fdd0ce"
      },
      "execution_count": 6,
      "outputs": [
        {
          "output_type": "stream",
          "name": "stdout",
          "text": [
            "<class 'str'>\n"
          ]
        }
      ]
    },
    {
      "cell_type": "markdown",
      "source": [
        "Q6. What is the relationship between string and character &quot;types&quot; in Python?"
      ],
      "metadata": {
        "id": "UIG8rog1O8_l"
      }
    },
    {
      "cell_type": "markdown",
      "source": [
        "In Python, strings are sequences of characters, and each character in a string is itself a string of length 1. This means that in Python, there is no separate \"character\" type distinct from the \"string\" type; all characters are represented as strings of length 1.\n",
        "\n",
        "There is no separate \"character\" type; all characters are represented as strings of length 1, which means that any operation that can be performed on a string can also be performed on a single character."
      ],
      "metadata": {
        "id": "r3qZGIf1PriR"
      }
    },
    {
      "cell_type": "code",
      "source": [
        "s = \"hello\"\n",
        "c = s[0]\n",
        "print(c)    # Output: \"h\"\n",
        "print(type(c))  # Output: <class 'str'>\n"
      ],
      "metadata": {
        "colab": {
          "base_uri": "https://localhost:8080/"
        },
        "id": "ba3SCsFBO9qP",
        "outputId": "decbe2ec-edd6-4fdf-b55c-40533835d13d"
      },
      "execution_count": 7,
      "outputs": [
        {
          "output_type": "stream",
          "name": "stdout",
          "text": [
            "h\n",
            "<class 'str'>\n"
          ]
        }
      ]
    },
    {
      "cell_type": "markdown",
      "source": [
        "Q7. Identify at least two operators and one method that allow you to combine one or more smaller\n",
        "strings to create a larger string."
      ],
      "metadata": {
        "id": "dFVX3uugQTUm"
      }
    },
    {
      "cell_type": "markdown",
      "source": [
        "there are several operators and methods that can be used to combine one or more smaller strings to create a larger string:\n",
        "\n",
        "a.)'+' operator: '+' operator to concatenate two or more strings.\n",
        "\n",
        "b.)join() method to concatenate a list of strings together, with a specified separator between each string.\n",
        "\n",
        "c.)The += operator to concatenate a string with another string. This operator works by modifying the original string in place."
      ],
      "metadata": {
        "id": "RAgGmoAnQoSG"
      }
    },
    {
      "cell_type": "markdown",
      "source": [
        "Q8. What is the benefit of first checking the target string with in or not in before using the index\n",
        "method to find a substring?"
      ],
      "metadata": {
        "id": "JBt4kxw4Ruz3"
      }
    },
    {
      "cell_type": "markdown",
      "source": [
        "When searching for a substring within a larger string in Python, it can be beneficial to first check if the target string contains the substring using the in or not in operators before using the index() method to find the substring.\n",
        "\n",
        "The in and not in operators return a Boolean value indicating whether the specified substring is found in the target string or not. These operators are very efficient and do not require iterating through the entire string, making them a good first step in searching for a substring.\n",
        "\n",
        "By using the in or not in operators first, you can avoid the overhead of calling the index() method if the substring is not present in the target string. This can be particularly important if you are performing a large number of substring searches, or if the target string is very long."
      ],
      "metadata": {
        "id": "0yQhWaZFRzQq"
      }
    },
    {
      "cell_type": "markdown",
      "source": [
        "Q9. Which operators and built-in string methods produce simple Boolean (true/false) results?"
      ],
      "metadata": {
        "id": "i_W0sEVdSBr9"
      }
    },
    {
      "cell_type": "markdown",
      "source": [
        "There are several operators and built-in string methods in Python that produce simple Boolean (true/false) results:\n",
        "\n",
        "a.)in and not in operators\n",
        "\n",
        "b.)comparison operators, such as <, >, <=, and >=\n",
        "\n",
        "c.)startswith() and endswith() methods\n",
        "\n",
        "d.)isalnum(), isalpha(), isdigit()"
      ],
      "metadata": {
        "id": "Aq7_7zUBS50H"
      }
    },
    {
      "cell_type": "code",
      "source": [],
      "metadata": {
        "id": "Eq_tLJavSESo"
      },
      "execution_count": null,
      "outputs": []
    }
  ]
}