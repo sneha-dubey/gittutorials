{
  "nbformat": 4,
  "nbformat_minor": 0,
  "metadata": {
    "colab": {
      "provenance": []
    },
    "kernelspec": {
      "name": "python3",
      "display_name": "Python 3"
    },
    "language_info": {
      "name": "python"
    }
  },
  "cells": [
    {
      "cell_type": "markdown",
      "source": [
        "Q1. What is the purpose of the try statement?"
      ],
      "metadata": {
        "id": "S_H8DDBDr2yb"
      }
    },
    {
      "cell_type": "markdown",
      "source": [
        "The try statement in Python is used to handle exceptions. It allows you to wrap a block of code that might raise an exception and specify how to handle it if an exception is raised."
      ],
      "metadata": {
        "id": "PQMIi024s8IW"
      }
    },
    {
      "cell_type": "code",
      "source": [
        "try:\n",
        "    # code that might raise an exception\n",
        "except ExceptionType as e:\n",
        "    # code to handle the exception\n"
      ],
      "metadata": {
        "id": "OYu9_TBqtERE"
      },
      "execution_count": null,
      "outputs": []
    },
    {
      "cell_type": "markdown",
      "source": [
        "Q2. What are the two most popular try statement variations?"
      ],
      "metadata": {
        "id": "5sroqQ--r5K8"
      }
    },
    {
      "cell_type": "markdown",
      "source": [
        "The two most popular variations of the try statement in programming are:\n",
        "\n",
        "a.)try-except: used to handle exceptions raised by the code in the try block.\n",
        "\n",
        "b.) try-finally: used to specify a block of code that must be executed regardless of whether an exception is raised or not."
      ],
      "metadata": {
        "id": "gY5cjAZyj5WP"
      }
    },
    {
      "cell_type": "markdown",
      "source": [
        "Q3. What is the purpose of the raise statement?"
      ],
      "metadata": {
        "id": "McFQGtncr8R4"
      }
    },
    {
      "cell_type": "markdown",
      "source": [
        "The purpose of the raise statement in programming is to raise an exception manually. It is used to indicate that an error or exceptional condition has occurred in the program. The raise statement is used within an exception handling block and is followed by an exception object (e.g., raise ValueError(\"Invalid value\")) to specify the type and message of the exception being raised. The exception handling mechanism in the program can then catch and handle the raised exception."
      ],
      "metadata": {
        "id": "7yWA8tiNkIY_"
      }
    },
    {
      "cell_type": "markdown",
      "source": [
        "Q4. What does the assert statement do, and what other statement is it like?"
      ],
      "metadata": {
        "id": "cLD2sdp-sAGm"
      }
    },
    {
      "cell_type": "markdown",
      "source": [
        "The assert statement in programming is used for debugging purposes. It checks a given condition, and if the condition is False, it raises an AssertionError exception. The assert statement provides a way to insert debugging assertions into a program, which can be checked during development and testing, but disabled or removed in the final version of the code.\n",
        "\n",
        "The assert statement is similar to a conditional statement such as an if statement, as it checks a condition and takes action based on the result of the condition evaluation. "
      ],
      "metadata": {
        "id": "6tfO2fojkTxD"
      }
    },
    {
      "cell_type": "markdown",
      "source": [
        "Q5. What is the purpose of the with/as argument, and what other statement is it like?"
      ],
      "metadata": {
        "id": "CSL1kgkysDS9"
      }
    },
    {
      "cell_type": "markdown",
      "source": [
        "The with statement provides a convenient way to instantiate an object and automatically handle the associated setup and cleanup activities, such as opening and closing a file, acquiring and releasing a lock, etc.\n",
        "\n",
        "The with statement is used in conjunction with the as argument to bind the result of the context manager expression to a variable, which can be used within the block of code executed by the with statement.\n",
        "\n",
        "The with statement is similar to the try-finally statement, as it ensures that a block of code is executed regardless of any exceptions raised within the block. However, the with statement provides a more concise and readable syntax for handling context-based resources."
      ],
      "metadata": {
        "id": "5gr-9iWYvNvV"
      }
    }
  ]
}